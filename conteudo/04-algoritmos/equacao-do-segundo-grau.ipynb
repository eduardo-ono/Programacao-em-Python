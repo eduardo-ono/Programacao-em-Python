{
 "cells": [
  {
   "cell_type": "code",
   "execution_count": null,
   "metadata": {},
   "outputs": [],
   "source": []
  },
  {
   "cell_type": "code",
   "execution_count": 13,
   "metadata": {},
   "outputs": [
    {
     "name": "stdout",
     "output_type": "stream",
     "text": [
      "a = 1  b = -5  c = 6\n",
      "x1 = 0.0\n",
      "x2 = 0.0\n"
     ]
    }
   ],
   "source": [
    "def bhaskara_tradicional(a, b, c, x):\n",
    "    delta = b ** 2 - 4 * a * c\n",
    "    x[0] = (-b + delta ** 0.5) / (2 * a)\n",
    "    x[1] = (-b - delta ** 0.5) / (2 * a)\n",
    "    a = 100 # somente para teste\n",
    "\n",
    "a = 1\n",
    "b = -5\n",
    "c = 6\n",
    "x1 = 0\n",
    "x2 = 0\n",
    "bhaskara_tradicional(a, b, c, [x1, x2])\n",
    "print(f'a = {a}  b = {b}  c = {c}')\n",
    "print(f'x1 = {x1:.1f}')\n",
    "print(f'x2 = {x2:.1f}')\n"
   ]
  },
  {
   "cell_type": "code",
   "execution_count": 3,
   "metadata": {},
   "outputs": [],
   "source": [
    "def bhaskara(a, b, c):\n",
    "    delta = b ** 2 - 4 * a * c\n",
    "    x1 = (-b + delta ** 0.5) / (2 * a)\n",
    "    x2 = (-b - delta ** 0.5) / (2 * a)\n",
    "    return (x1, x2)"
   ]
  },
  {
   "cell_type": "code",
   "execution_count": 4,
   "metadata": {},
   "outputs": [
    {
     "name": "stdout",
     "output_type": "stream",
     "text": [
      "x1 = 3.000\n",
      "x2 = 2.000\n"
     ]
    }
   ],
   "source": [
    "a = 1\n",
    "b = -5\n",
    "c = 6\n",
    "(x1, x2) = bhaskara(a, b, c)\n",
    "print(f'x1 = {x1:.3f}')\n",
    "print(f'x2 = {x2:.3f}')"
   ]
  },
  {
   "cell_type": "markdown",
   "metadata": {},
   "source": [
    "## Vídeos de Apoio\n",
    "\n",
    "| Thumb | Descrição |\n",
    "| :-: | --- |\n",
    "| [![img](https://img.youtube.com/vi/bRarYtXCkFk/default.jpg)](https://www.youtube.com/watch?v=bRarYtXCkFk) | <sup>[Bóson Treinamentos]</sup><br>[__Script para Calcular Raízes de Equação do 2° Grau com Python__](https://www.youtube.com/watch?v=bRarYtXCkFk)<br><sub>(11:03, YouTube, Set/2019)</sub>"
   ]
  }
 ],
 "metadata": {
  "kernelspec": {
   "display_name": "Python 3.9.13 ('base')",
   "language": "python",
   "name": "python3"
  },
  "language_info": {
   "codemirror_mode": {
    "name": "ipython",
    "version": 3
   },
   "file_extension": ".py",
   "mimetype": "text/x-python",
   "name": "python",
   "nbconvert_exporter": "python",
   "pygments_lexer": "ipython3",
   "version": "3.9.13"
  },
  "orig_nbformat": 4,
  "vscode": {
   "interpreter": {
    "hash": "6ca436f98112c699fca53176ca9b2af64a577e7d8248f3b63a91e306eedca64e"
   }
  }
 },
 "nbformat": 4,
 "nbformat_minor": 2
}
