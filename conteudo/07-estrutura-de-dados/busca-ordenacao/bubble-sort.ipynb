{
 "cells": [
  {
   "cell_type": "markdown",
   "metadata": {},
   "source": [
    "<h1 align=\"center\">\n",
    "Bubble Sort\n",
    "</h1>\n",
    "\n",
    "<h4 align=\"center\">Prof. Eduardo Ono</h4>\n",
    "\n",
    "<br>"
   ]
  },
  {
   "cell_type": "markdown",
   "metadata": {},
   "source": [
    "## Listas"
   ]
  },
  {
   "cell_type": "markdown",
   "metadata": {},
   "source": [
    "### Bubble Sort Não Otimizado"
   ]
  },
  {
   "cell_type": "code",
   "execution_count": 55,
   "metadata": {},
   "outputs": [],
   "source": [
    "lista_original = [67, 51, 64, 46, 37, 28, 38, 29, 10, 7, 12]"
   ]
  },
  {
   "cell_type": "code",
   "execution_count": 54,
   "metadata": {},
   "outputs": [],
   "source": [
    "def bubble_sort_nao_otimizado(lista):\n",
    "    num_comparacoes = 0\n",
    "    num_trocas = 0\n",
    "    for i in range(len(lista)):\n",
    "        for j in range(0, len(lista) - 1):\n",
    "            num_comparacoes += 1\n",
    "            if lista[j] > lista[j + 1]:\n",
    "                aux = lista[j]\n",
    "                lista[j] = lista[j + 1]\n",
    "                lista[j + 1] = aux\n",
    "                num_trocas += 1\n",
    "    return num_comparacoes, num_trocas"
   ]
  },
  {
   "cell_type": "code",
   "execution_count": 53,
   "metadata": {},
   "outputs": [
    {
     "name": "stdout",
     "output_type": "stream",
     "text": [
      "[7, 10, 12, 28, 29, 37, 38, 46, 51, 64, 67]\n",
      "Numero de comparações = 110\n",
      "Número de trocas = 49\n"
     ]
    }
   ],
   "source": [
    "# Copia a lista_original para lista. Não modifica a lista_original.\n",
    "lista = lista_original.copy()\n",
    "\n",
    "num_comparacoes, num_trocas = bubble_sort_nao_otimizado(lista)\n",
    "print(lista)\n",
    "print('Numero de comparações =', num_comparacoes)\n",
    "print('Número de trocas =', num_trocas)"
   ]
  },
  {
   "cell_type": "markdown",
   "metadata": {},
   "source": [
    "### Bubble Sort Parcialmente Otimizado"
   ]
  },
  {
   "cell_type": "code",
   "execution_count": 52,
   "metadata": {},
   "outputs": [],
   "source": [
    "def bubble_sort_parcialmente_otimizado(lista):\n",
    "    num_comparacoes = 0\n",
    "    num_trocas = 0\n",
    "    for i in range(len(lista)):\n",
    "        for j in range(0, len(lista) - 1 - i):\n",
    "            num_comparacoes += 1\n",
    "            if lista[j] > lista[j + 1]:\n",
    "                aux = lista[j]\n",
    "                lista[j] = lista[j + 1]\n",
    "                lista[j + 1] = aux\n",
    "                num_trocas += 1\n",
    "    return num_comparacoes, num_trocas\n"
   ]
  },
  {
   "cell_type": "code",
   "execution_count": 48,
   "metadata": {},
   "outputs": [
    {
     "name": "stdout",
     "output_type": "stream",
     "text": [
      "[7, 10, 12, 28, 29, 37, 38, 46, 51, 64, 67]\n",
      "Numero de comparações = 55\n",
      "Número de trocas = 49\n"
     ]
    }
   ],
   "source": [
    "lista = lista_original.copy()\n",
    "\n",
    "num_comparacoes, num_trocas = bubble_sort_parcialmente_otimizado(lista)\n",
    "print(lista)\n",
    "print('Numero de comparações =', num_comparacoes)\n",
    "print('Número de trocas =', num_trocas)"
   ]
  },
  {
   "cell_type": "markdown",
   "metadata": {},
   "source": [
    "### Bubble Sort Otimizado"
   ]
  },
  {
   "cell_type": "code",
   "execution_count": 49,
   "metadata": {},
   "outputs": [],
   "source": [
    "def bubble_sort(lista):\n",
    "    num_comparacoes = 0\n",
    "    num_trocas = 0\n",
    "    trocou = True\n",
    "    i = 0\n",
    "    while i < len(lista) and trocou:\n",
    "        trocou = False\n",
    "        for j in range(0, len(lista) - 1 - i):\n",
    "            num_comparacoes += 1\n",
    "            if lista[j] > lista[j + 1]:\n",
    "                aux = lista[j]\n",
    "                lista[j] = lista[j + 1]\n",
    "                lista[j + 1] = aux\n",
    "                trocou = True\n",
    "                num_trocas += 1\n",
    "        i += 1\n",
    "    return num_comparacoes, num_trocas\n"
   ]
  },
  {
   "cell_type": "code",
   "execution_count": 50,
   "metadata": {},
   "outputs": [
    {
     "name": "stdout",
     "output_type": "stream",
     "text": [
      "[7, 10, 12, 28, 29, 37, 38, 46, 51, 64, 67]\n",
      "Numero de comparações = 55\n",
      "Número de trocas = 49\n"
     ]
    }
   ],
   "source": [
    "lista = lista_original.copy()\n",
    "\n",
    "num_comparacoes, num_trocas = bubble_sort(lista)\n",
    "print(lista)\n",
    "print('Numero de comparações =', num_comparacoes)\n",
    "print('Número de trocas =', num_trocas)"
   ]
  }
 ],
 "metadata": {
  "kernelspec": {
   "display_name": "Python 3.9.13 ('datascience')",
   "language": "python",
   "name": "python3"
  },
  "language_info": {
   "codemirror_mode": {
    "name": "ipython",
    "version": 3
   },
   "file_extension": ".py",
   "mimetype": "text/x-python",
   "name": "python",
   "nbconvert_exporter": "python",
   "pygments_lexer": "ipython3",
   "version": "3.9.13"
  },
  "orig_nbformat": 4,
  "vscode": {
   "interpreter": {
    "hash": "f12b6966e99715cc32002a23ed668419fd403edd34f5c6e3edccff0f21cb9979"
   }
  }
 },
 "nbformat": 4,
 "nbformat_minor": 2
}
