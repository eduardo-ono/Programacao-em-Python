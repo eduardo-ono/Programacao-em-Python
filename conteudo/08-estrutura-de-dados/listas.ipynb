{
 "cells": [
  {
   "cell_type": "markdown",
   "metadata": {},
   "source": [
    "<h1 align=\"center\">\n",
    "Python - Listas\n",
    "</h1>\n",
    "\n",
    "<h4 align=\"center\">Prof. Eduardo Ono</h4>\n",
    "\n",
    "<br>"
   ]
  },
  {
   "cell_type": "markdown",
   "metadata": {},
   "source": [
    "## Conceitos\n",
    "\n",
    "### Definição\n",
    "\n",
    "> Uma __*lista*__ é uma estrutura (_container_) que permite armazenar vários valores (elementos) sob um único identificador. Uma lista é mutável, ou seja, permite que seus valores sejam modificados.\n",
    "\n",
    "### Sintaxe\n",
    "\n",
    "```python\n",
    "lista = [elemento_1, elemento_2, ..., elemento_n]\n",
    "```"
   ]
  },
  {
   "cell_type": "markdown",
   "metadata": {},
   "source": [
    "sdcds"
   ]
  },
  {
   "cell_type": "code",
   "execution_count": null,
   "metadata": {},
   "outputs": [],
   "source": []
  },
  {
   "cell_type": "markdown",
   "metadata": {},
   "source": [
    "### Exemplos"
   ]
  },
  {
   "cell_type": "code",
   "execution_count": 7,
   "metadata": {},
   "outputs": [
    {
     "name": "stdout",
     "output_type": "stream",
     "text": [
      "<class 'list'>\n",
      "['caju', 'abacaxi', 'morango']\n"
     ]
    }
   ],
   "source": [
    "frutas = ['caju', 'abacaxi', 'morango']\n",
    "primos = [2, 3, 5, 7, 11, 13, 17, 19]\n",
    "alturas = [1.56, 1.89, 1.75, 1.82]\n",
    "\n",
    "print(type(frutas))\n",
    "print(frutas)"
   ]
  },
  {
   "cell_type": "markdown",
   "metadata": {},
   "source": [
    "### Indexação de listas\n",
    "\n",
    "> Toda __lista__ é indexada a partir do índice 0 (zero)."
   ]
  },
  {
   "cell_type": "code",
   "execution_count": 10,
   "metadata": {},
   "outputs": [
    {
     "name": "stdout",
     "output_type": "stream",
     "text": [
      "morango\n"
     ]
    },
    {
     "ename": "IndexError",
     "evalue": "list index out of range",
     "output_type": "error",
     "traceback": [
      "\u001b[1;31m---------------------------------------------------------------------------\u001b[0m",
      "\u001b[1;31mIndexError\u001b[0m                                Traceback (most recent call last)",
      "\u001b[1;32me:\\Documentos\\Disciplinas\\Programação em Python\\conteudo\\estrutura-de-dados\\listas.ipynb Célula: 6\u001b[0m in \u001b[0;36m<cell line: 3>\u001b[1;34m()\u001b[0m\n\u001b[0;32m      <a href='vscode-notebook-cell:/e%3A/Documentos/Disciplinas/Programa%C3%A7%C3%A3o%20em%20Python/conteudo/estrutura-de-dados/listas.ipynb#ch0000018?line=0'>1</a>\u001b[0m lista \u001b[39m=\u001b[39m [\u001b[39m'\u001b[39m\u001b[39mcaju\u001b[39m\u001b[39m'\u001b[39m, \u001b[39m'\u001b[39m\u001b[39mabacaxi\u001b[39m\u001b[39m'\u001b[39m, \u001b[39m'\u001b[39m\u001b[39mmorango\u001b[39m\u001b[39m'\u001b[39m, \u001b[39m'\u001b[39m\u001b[39mbanana\u001b[39m\u001b[39m'\u001b[39m]\n\u001b[0;32m      <a href='vscode-notebook-cell:/e%3A/Documentos/Disciplinas/Programa%C3%A7%C3%A3o%20em%20Python/conteudo/estrutura-de-dados/listas.ipynb#ch0000018?line=1'>2</a>\u001b[0m \u001b[39mprint\u001b[39m(lista[\u001b[39m2\u001b[39m])\n\u001b[1;32m----> <a href='vscode-notebook-cell:/e%3A/Documentos/Disciplinas/Programa%C3%A7%C3%A3o%20em%20Python/conteudo/estrutura-de-dados/listas.ipynb#ch0000018?line=2'>3</a>\u001b[0m \u001b[39mprint\u001b[39m(lista[\u001b[39m4\u001b[39;49m])\n",
      "\u001b[1;31mIndexError\u001b[0m: list index out of range"
     ]
    }
   ],
   "source": [
    "lista = ['caju', 'abacaxi', 'morango', 'banana']\n",
    "print(lista[2])\n",
    "print(lista[4])"
   ]
  },
  {
   "cell_type": "markdown",
   "metadata": {},
   "source": [
    "### Vídeos de Apoio\n",
    "\n",
    "| Thumb | Descrição |\n",
    "| :-: | --- |\n",
    "| [![img](https://img.youtube.com/vi/F7Orltrlknw/default.jpg)](https://www.youtube.com/watch?v=F7Orltrlknw?t=2940) | <sup>[Curso de Python UFAC]</sup><br>[__Capítulo 7: Listas__](https://www.youtube.com/watch?v=F7Orltrlknw?t=2940)<br><sub>(3:06:39, YouTube, Dez/2020)</sub>"
   ]
  },
  {
   "cell_type": "markdown",
   "metadata": {},
   "source": [
    "<br>\n",
    "\n",
    "## Métodos\n",
    "\n",
    "| Método |  Descrição |\n",
    "| --- | --- |\n",
    "| `append(<elemento>)` | Adiciona um novo elemento no final da lista.\n",
    "| `insert(<index>, <elemento>)` | Insere um novo elemento na posição \"index\".\n",
    "| `pop()` | Remove o último elemento da lista, retornando-o.\n",
    "| `remove(<elemento>)` | Remove da lista o primeiro elemento encontrado passado como parâmetro.\n",
    "| `count(<elemento>)` | Retorna o número de ocorrências do elemento passado como parâmetro.\n",
    "| `reverse()` | Inverte a sequência dos elementos da lista.\n",
    "| `sort([reverse=True])` | Ordena numericamente ou alfabeticamente os elementos da lista."
   ]
  },
  {
   "cell_type": "markdown",
   "metadata": {},
   "source": [
    "<br>\n",
    "\n",
    "## Funções lambda"
   ]
  },
  {
   "cell_type": "code",
   "execution_count": 2,
   "metadata": {},
   "outputs": [
    {
     "name": "stdout",
     "output_type": "stream",
     "text": [
      "[2, 4, 6]\n"
     ]
    }
   ],
   "source": [
    "def filtrarPares(num):\n",
    "    return num % 2 == 0\n",
    "\n",
    "lista = [1, 2, 3, 4, 5, 6, 7]\n",
    "pares = list(filter(filtrarPares, lista))\n",
    "print(pares)"
   ]
  },
  {
   "cell_type": "markdown",
   "metadata": {},
   "source": []
  },
  {
   "cell_type": "code",
   "execution_count": 3,
   "metadata": {},
   "outputs": [
    {
     "name": "stdout",
     "output_type": "stream",
     "text": [
      "[2, 4, 6]\n"
     ]
    }
   ],
   "source": [
    "lista = [1, 2, 3, 4, 5, 6, 7]\n",
    "pares = list(filter(lambda num: num % 2 == 0, lista))\n",
    "print(pares)"
   ]
  },
  {
   "cell_type": "markdown",
   "metadata": {},
   "source": [
    "### Referências\n",
    "\n",
    "| Thumb | Descrição |\n",
    "| :-: | --- |\n",
    "| [![img](https://img.youtube.com/vi/hZqg9RH5GWk/default.jpg)](https://www.youtube.com/watch?v=hZqg9RH5GWk) | <sup>[Walisson Silva]</sup><br>[__Funções Lambda no Python: O que são e quando utilizar?__](https://www.youtube.com/watch?v=hZqg9RH5GWk)<br><sub>(16:55, YouTube, Jul/2021)</sub>"
   ]
  }
 ],
 "metadata": {
  "kernelspec": {
   "display_name": "python3-datascience",
   "language": "python",
   "name": "python3-datascience"
  },
  "language_info": {
   "codemirror_mode": {
    "name": "ipython",
    "version": 3
   },
   "file_extension": ".py",
   "mimetype": "text/x-python",
   "name": "python",
   "nbconvert_exporter": "python",
   "pygments_lexer": "ipython3",
   "version": "3.9.13"
  },
  "orig_nbformat": 4
 },
 "nbformat": 4,
 "nbformat_minor": 2
}
