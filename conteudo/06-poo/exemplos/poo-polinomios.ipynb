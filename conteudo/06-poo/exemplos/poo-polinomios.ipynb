{
 "cells": [
  {
   "cell_type": "code",
   "execution_count": null,
   "metadata": {},
   "outputs": [],
   "source": []
  },
  {
   "cell_type": "code",
   "execution_count": 31,
   "metadata": {},
   "outputs": [],
   "source": [
    "import numpy as np\n",
    "\n",
    "class Polinomio:\n",
    "    def __init__(self, coeficientes):\n",
    "        self.grau = len(coeficientes) - 1\n",
    "        self.coeficientes = coeficientes\n",
    "        self.zeros = []\n",
    "        self.erros = []\n",
    "\n",
    "    def set_coeficientes(self, coeficientes):\n",
    "        if len(coeficientes) == self.grau and coeficientes[0] != 0:\n",
    "            self.coeficientes = coeficientes\n",
    "            self.grau = len(coeficientes) - 1\n",
    "\n",
    "    def polinomio(self, x):\n",
    "        y = 0\n",
    "        for i in range(self.grau, -1, -1):\n",
    "            y += self.coeficientes[self.grau - i] * x ** i\n",
    "        return y\n",
    "\n",
    "    def calcular_zeros(self, x0, x1, delta=0.001):\n",
    "        for x in np.arange(x0, x1 + delta, delta):\n",
    "            y0 = self.polinomio(x)\n",
    "            y1 = self.polinomio(x + delta)\n",
    "            if y0 * y1 <= 0:\n",
    "                x = (2 * x + delta) / 2\n",
    "                self.zeros.append(x)\n",
    "                self.erros.append(self.polinomio(x))\n"
   ]
  },
  {
   "cell_type": "code",
   "execution_count": 32,
   "metadata": {},
   "outputs": [
    {
     "name": "stdout",
     "output_type": "stream",
     "text": [
      "[1, -5, 6]\n",
      "Zeros:\n",
      "x = 2.0005\n",
      "x = 3.0005\n",
      "erro em y = -0.0005\n",
      "erro em y = 0.0005\n"
     ]
    }
   ],
   "source": [
    "p2 = Polinomio([1, -5, 6])\n",
    "print(p2.coeficientes)\n",
    "p2.calcular_zeros(-50, 50, 0.001)\n",
    "print('Zeros:')\n",
    "for x in p2.zeros:\n",
    "    print('x =', round(x, 5))\n",
    "for erro in p2.erros:\n",
    "    print('erro em y =', round(erro, 5))\n"
   ]
  }
 ],
 "metadata": {
  "kernelspec": {
   "display_name": "python3-datascience",
   "language": "python",
   "name": "python3-datascience"
  },
  "language_info": {
   "codemirror_mode": {
    "name": "ipython",
    "version": 3
   },
   "file_extension": ".py",
   "mimetype": "text/x-python",
   "name": "python",
   "nbconvert_exporter": "python",
   "pygments_lexer": "ipython3",
   "version": "3.9.13"
  },
  "orig_nbformat": 4
 },
 "nbformat": 4,
 "nbformat_minor": 2
}
