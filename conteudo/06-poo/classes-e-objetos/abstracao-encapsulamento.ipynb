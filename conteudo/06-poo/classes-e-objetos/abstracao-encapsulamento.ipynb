{
 "cells": [
  {
   "cell_type": "code",
   "execution_count": null,
   "metadata": {},
   "outputs": [],
   "source": []
  },
  {
   "cell_type": "code",
   "execution_count": null,
   "metadata": {},
   "outputs": [],
   "source": []
  },
  {
   "cell_type": "code",
   "execution_count": 6,
   "metadata": {},
   "outputs": [],
   "source": [
    "class Paciente:\n",
    "    peso_unidade = 'kg' # variável de classe\n",
    "    altura_unidade = 'm' # variável de classe\n",
    "    \"construtor\"\n",
    "    def __init__(self, nome, peso, altura):\n",
    "        self.nome = nome\n",
    "        self.peso = peso\n",
    "        self.altura = altura"
   ]
  },
  {
   "cell_type": "code",
   "execution_count": 14,
   "metadata": {},
   "outputs": [
    {
     "name": "stdout",
     "output_type": "stream",
     "text": [
      "Nome: Fulano de Tal\n",
      "Peso: 68 kg\n",
      "Altura: 1.71 m\n"
     ]
    }
   ],
   "source": [
    "paciente1 = Paciente('Fulano de Tal', 68, 1.71)\n",
    "print(\"Nome:\", paciente1.nome)\n",
    "print('Peso:', paciente1.peso, Paciente.peso_unidade)\n",
    "print('Altura:', paciente1.altura, Paciente.altura_unidade)"
   ]
  }
 ],
 "metadata": {
  "kernelspec": {
   "display_name": "python3-datascience",
   "language": "python",
   "name": "python3-datascience"
  },
  "language_info": {
   "codemirror_mode": {
    "name": "ipython",
    "version": 3
   },
   "file_extension": ".py",
   "mimetype": "text/x-python",
   "name": "python",
   "nbconvert_exporter": "python",
   "pygments_lexer": "ipython3",
   "version": "3.9.13"
  },
  "orig_nbformat": 4
 },
 "nbformat": 4,
 "nbformat_minor": 2
}
