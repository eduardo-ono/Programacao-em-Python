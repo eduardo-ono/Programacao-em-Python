{
 "cells": [
  {
   "cell_type": "markdown",
   "metadata": {},
   "source": [
    "# Strings\n",
    "\n",
    "---\n",
    "\n",
    "#### Prof. Eduardo Ono\n",
    "\n",
    "&nbsp;"
   ]
  },
  {
   "cell_type": "markdown",
   "metadata": {},
   "source": [
    "## Conceitos\n",
    "\n",
    "> Uma _string_ é uma sequência de caracteres, delimitada por aspas simples ou duplas.\n",
    "\n",
    "&nbsp;"
   ]
  },
  {
   "cell_type": "markdown",
   "metadata": {},
   "source": [
    "## Propriedades\n",
    "\n",
    "* _Strings_ em Python são imutáveis.\n",
    "\n",
    "* O operador `+` é utilizado para concatenar duas _strings_.\n",
    "\n",
    "* O operador `*` é utilizado para \"multiplicar\" (repetir) _strings_.\n",
    "\n",
    "&nbsp;"
   ]
  },
  {
   "cell_type": "markdown",
   "metadata": {},
   "source": [
    "### Exemplos"
   ]
  },
  {
   "cell_type": "code",
   "execution_count": 1,
   "metadata": {},
   "outputs": [
    {
     "name": "stdout",
     "output_type": "stream",
     "text": [
      "casa\n",
      "c\n"
     ]
    },
    {
     "ename": "TypeError",
     "evalue": "'str' object does not support item assignment",
     "output_type": "error",
     "traceback": [
      "\u001b[1;31m---------------------------------------------------------------------------\u001b[0m",
      "\u001b[1;31mTypeError\u001b[0m                                 Traceback (most recent call last)",
      "\u001b[1;32mm:\\Disciplinas\\Programação em Python\\conteudo\\02-fundamentos-da-linguagem\\03-tipos-de-dados-variaveis\\strings.ipynb Célula: 4\u001b[0m in \u001b[0;36m<cell line: 6>\u001b[1;34m()\u001b[0m\n\u001b[0;32m      <a href='vscode-notebook-cell:/m%3A/Disciplinas/Programa%C3%A7%C3%A3o%20em%20Python/conteudo/02-fundamentos-da-linguagem/03-tipos-de-dados-variaveis/strings.ipynb#W3sZmlsZQ%3D%3D?line=3'>4</a>\u001b[0m \u001b[39mprint\u001b[39m(\u001b[39mstr\u001b[39m[\u001b[39m0\u001b[39m])\n\u001b[0;32m      <a href='vscode-notebook-cell:/m%3A/Disciplinas/Programa%C3%A7%C3%A3o%20em%20Python/conteudo/02-fundamentos-da-linguagem/03-tipos-de-dados-variaveis/strings.ipynb#W3sZmlsZQ%3D%3D?line=4'>5</a>\u001b[0m \u001b[39mstr\u001b[39m \u001b[39m=\u001b[39m \u001b[39m'\u001b[39m\u001b[39mcarro\u001b[39m\u001b[39m'\u001b[39m\n\u001b[1;32m----> <a href='vscode-notebook-cell:/m%3A/Disciplinas/Programa%C3%A7%C3%A3o%20em%20Python/conteudo/02-fundamentos-da-linguagem/03-tipos-de-dados-variaveis/strings.ipynb#W3sZmlsZQ%3D%3D?line=5'>6</a>\u001b[0m \u001b[39mstr\u001b[39m[\u001b[39m0\u001b[39m] \u001b[39m=\u001b[39m \u001b[39m'\u001b[39m\u001b[39mC\u001b[39m\u001b[39m'\u001b[39m\n\u001b[0;32m      <a href='vscode-notebook-cell:/m%3A/Disciplinas/Programa%C3%A7%C3%A3o%20em%20Python/conteudo/02-fundamentos-da-linguagem/03-tipos-de-dados-variaveis/strings.ipynb#W3sZmlsZQ%3D%3D?line=6'>7</a>\u001b[0m \u001b[39mprint\u001b[39m(\u001b[39mstr\u001b[39m)\n",
      "\u001b[1;31mTypeError\u001b[0m: 'str' object does not support item assignment"
     ]
    }
   ],
   "source": [
    "# Imutabilidade de strings\n",
    "str = 'casa'\n",
    "print(str)\n",
    "print(str[0])\n",
    "str = 'carro'\n",
    "str[0] = 'C'\n",
    "print(str)"
   ]
  },
  {
   "cell_type": "code",
   "execution_count": 9,
   "metadata": {},
   "outputs": [
    {
     "name": "stdout",
     "output_type": "stream",
     "text": [
      "Olá mundo!Olá mundo!Olá mundo!\n",
      "\n"
     ]
    }
   ],
   "source": [
    "str = ('Olá mundo!' * 3) + '\\n'\n",
    "print(str)\n"
   ]
  },
  {
   "cell_type": "code",
   "execution_count": 10,
   "metadata": {},
   "outputs": [
    {
     "name": "stdout",
     "output_type": "stream",
     "text": [
      "FULANO DE TAL\n",
      "fulano de tal\n",
      "FULANO DE TAL\n"
     ]
    }
   ],
   "source": [
    "str = 'fulano de tal'\n",
    "print(str.upper())\n",
    "print(str)\n",
    "str = str.upper()\n",
    "print(str)\n"
   ]
  },
  {
   "cell_type": "markdown",
   "metadata": {},
   "source": [
    "<br>\n",
    "\n",
    "## Concatenação de Strings"
   ]
  },
  {
   "cell_type": "markdown",
   "metadata": {},
   "source": [
    "### f-string"
   ]
  },
  {
   "cell_type": "code",
   "execution_count": 1,
   "metadata": {},
   "outputs": [
    {
     "name": "stdout",
     "output_type": "stream",
     "text": [
      "Olá Fulano de Tal!\n"
     ]
    }
   ],
   "source": [
    "nome = 'Fulano de Tal'\n",
    "print(f'Olá {nome}!')"
   ]
  },
  {
   "cell_type": "markdown",
   "metadata": {},
   "source": [
    "<br>\n",
    "\n",
    "## Principais Funções para Manipulação de Strings\n",
    "\n",
    "| Função | Descrição |\n",
    "| --- | --- |\n",
    "| `replace()` |\n"
   ]
  },
  {
   "cell_type": "code",
   "execution_count": 4,
   "metadata": {},
   "outputs": [
    {
     "name": "stdout",
     "output_type": "stream",
     "text": [
      "OLÁ MUNDO!\n"
     ]
    }
   ],
   "source": [
    "str = 'Olá mundo!'\n",
    "str = str.upper()\n",
    "\n",
    "print(str)"
   ]
  },
  {
   "cell_type": "markdown",
   "metadata": {},
   "source": [
    "## Aliasing\n",
    "\n",
    "* Para verificar se duas variáveis fazem referência a um mesmo objeto, pode-se utilizar o operador `is`."
   ]
  },
  {
   "cell_type": "code",
   "execution_count": 3,
   "metadata": {},
   "outputs": [
    {
     "name": "stdout",
     "output_type": "stream",
     "text": [
      "True\n"
     ]
    }
   ],
   "source": [
    "str1 = 'banana'\n",
    "str2 = 'banana'\n",
    "print(str1 is str2)"
   ]
  },
  {
   "cell_type": "markdown",
   "metadata": {},
   "source": [
    "<br>\n",
    "\n",
    "## Vídeos de Apoio\n",
    "\n",
    "| Thumb | Descrição |\n",
    "| :-: | --- |\n",
    "| [![img](https://img.youtube.com/vi/QpEM1cRz1LQ/default.jpg)](https://www.youtube.com/watch?v=QpEM1cRz1LQ) | <sup>[Refatorando]</sup><br>[__Curso de Python para iniciantes #04 - Trabalhando com Strings__](https://www.youtube.com/watch?v=QpEM1cRz1LQ)<br><sub>(21:28, YouTube, Nov/2020)</sub>\n"
   ]
  }
 ],
 "metadata": {
  "kernelspec": {
   "display_name": "Python 3.9.13 ('grafos')",
   "language": "python",
   "name": "python3"
  },
  "language_info": {
   "codemirror_mode": {
    "name": "ipython",
    "version": 3
   },
   "file_extension": ".py",
   "mimetype": "text/x-python",
   "name": "python",
   "nbconvert_exporter": "python",
   "pygments_lexer": "ipython3",
   "version": "3.9.13"
  },
  "orig_nbformat": 4,
  "vscode": {
   "interpreter": {
    "hash": "1c7fb69ec0120a7bfae17680f5348dc79368d3eaaea67ee440f5569267ea8c67"
   }
  }
 },
 "nbformat": 4,
 "nbformat_minor": 2
}
