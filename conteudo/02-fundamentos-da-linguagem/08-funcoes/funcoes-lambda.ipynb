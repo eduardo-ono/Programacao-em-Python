{
 "cells": [
  {
   "cell_type": "markdown",
   "metadata": {},
   "source": []
  },
  {
   "cell_type": "markdown",
   "metadata": {},
   "source": [
    "<h1 align=center>\n",
    "Funções lambda\n",
    "</h1>\n",
    "\n",
    "<h4 align=center>\n",
    "Prof. Eduardo Ono\n",
    "</h4>\n",
    "\n",
    "<br>"
   ]
  },
  {
   "cell_type": "markdown",
   "metadata": {},
   "source": [
    "## Funções \"tradicionais\"\n",
    "\n",
    "### Características\n",
    "\n",
    "* Declaradas através da palavra-chave `lambda`\n",
    "* Não são nomeadas\n",
    "* O corpo da função tem início através do caracter `:`\n",
    "* O corpo da função é delimitado pela endentação/indentação por 4 espaços\n",
    "* A chamada da função pode utilizar parâmetros nomeados\n",
    "* Uma função pode retornar o valor `None`\n",
    "\n",
    "### Sintaxe\n",
    "\n",
    "```python\n",
    "nome_variável = lambda parâmetro_1, parâmetro_2, ...: retorno\n",
    "```\n"
   ]
  },
  {
   "cell_type": "markdown",
   "metadata": {},
   "source": [
    "### Exemplo de Declaração de uma Função"
   ]
  },
  {
   "cell_type": "code",
   "execution_count": 1,
   "metadata": {},
   "outputs": [],
   "source": [
    "# Função que imprime \"Olá Mundo!\".\n",
    "\n",
    "def olaMundo():\n",
    "    print('Olá Mundo!')"
   ]
  },
  {
   "cell_type": "markdown",
   "metadata": {},
   "source": [
    "### Chamada da Função"
   ]
  },
  {
   "cell_type": "code",
   "execution_count": 2,
   "metadata": {},
   "outputs": [
    {
     "name": "stdout",
     "output_type": "stream",
     "text": [
      "Olá Mundo!\n"
     ]
    }
   ],
   "source": [
    "olaMundo()"
   ]
  },
  {
   "cell_type": "markdown",
   "metadata": {},
   "source": [
    "### Exemplos"
   ]
  },
  {
   "cell_type": "code",
   "execution_count": 13,
   "metadata": {},
   "outputs": [
    {
     "name": "stdout",
     "output_type": "stream",
     "text": [
      "IMC = 23.510204081632654\n",
      "IMC =  23.5\n"
     ]
    }
   ],
   "source": [
    "def imc(peso, altura):\n",
    "    return peso / altura ** 2\n",
    "\n",
    "print('IMC =', imc(72, 1.75))\n",
    "print('IMC = ', '{:.1f}'.format(imc(72, 1.75)))"
   ]
  },
  {
   "cell_type": "markdown",
   "metadata": {},
   "source": [
    "## Vídeos de Apoio\n",
    "\n",
    "| Thumb | Descrição |\n",
    "| :-: | --- |\n",
    "| [![img](https://img.youtube.com/vi/hZqg9RH5GWk/default.jpg)](https://www.youtube.com/watch?v=hZqg9RH5GWk) | <sup>[Walisson Silva]</sup><br>[__Funções Lambda no Python: O que são e quando utilizar?__](https://www.youtube.com/watch?v=hZqg9RH5GWk)<br><sub>(16:55, YouTube, Jul/2021)</sub>\n",
    "| [![img](https://img.youtube.com/vi/xmMXULd0dxc/default.jpg)](https://www.youtube.com/watch?v=xmMXULd0dxc) | <sup>[Hashtag Programação]</sup><br>[__Como Usar as Funções Lambda (Expressões Lambda) no Python__](https://www.youtube.com/watch?v=xmMXULd0dxc)<br><sub>(13:28, YouTube, Mai/2021)</sub>\n"
   ]
  }
 ],
 "metadata": {
  "kernelspec": {
   "display_name": "python3-datascience",
   "language": "python",
   "name": "python3-datascience"
  },
  "language_info": {
   "codemirror_mode": {
    "name": "ipython",
    "version": 3
   },
   "file_extension": ".py",
   "mimetype": "text/x-python",
   "name": "python",
   "nbconvert_exporter": "python",
   "pygments_lexer": "ipython3",
   "version": "3.9.13"
  },
  "orig_nbformat": 4
 },
 "nbformat": 4,
 "nbformat_minor": 2
}
