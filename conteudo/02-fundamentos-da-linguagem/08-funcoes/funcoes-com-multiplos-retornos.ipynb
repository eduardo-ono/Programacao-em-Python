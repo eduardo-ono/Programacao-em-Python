{
 "cells": [
  {
   "cell_type": "code",
   "execution_count": null,
   "metadata": {},
   "outputs": [],
   "source": []
  },
  {
   "cell_type": "markdown",
   "metadata": {},
   "source": [
    "\n",
    "# Funções com Múltiplos Retornos\n",
    "\n",
    "---\n",
    "#### Prof. Eduardo Ono\n",
    "\n",
    "&nbsp;"
   ]
  },
  {
   "cell_type": "markdown",
   "metadata": {},
   "source": [
    "## Exemplos\n",
    "\n",
    "---"
   ]
  },
  {
   "cell_type": "markdown",
   "metadata": {},
   "source": [
    "### Fórmula de Bhaskara"
   ]
  },
  {
   "cell_type": "code",
   "execution_count": 8,
   "metadata": {},
   "outputs": [
    {
     "name": "stdout",
     "output_type": "stream",
     "text": [
      "x1 = -2.0, x2 = -3.0\n",
      "x1 = None, x2 = None\n"
     ]
    }
   ],
   "source": [
    "import math\n",
    "\n",
    "def bhaskara(a, b, c):\n",
    "    delta = b ** 2 - 4 * a * c\n",
    "    if (a == 0 or delta < 0): return None, None\n",
    "    x1 = (-b + math.sqrt(delta)) / (2 * a)\n",
    "    x2 = (-b - math.sqrt(delta)) / (2 * a)\n",
    "    return x1, x2\n",
    "\n",
    "x1, x2 = bhaskara(1, 5, 6)\n",
    "print(f'x1 = {x1}, x2 = {x2}')\n",
    "\n",
    "x1, x2 = bhaskara(1, -5, 60)\n",
    "print(f'x1 = {x1}, x2 = {x2}')"
   ]
  },
  {
   "cell_type": "markdown",
   "metadata": {},
   "source": [
    "### Fórmula de Bhaskara com Raizes Complexas"
   ]
  },
  {
   "cell_type": "code",
   "execution_count": 20,
   "metadata": {},
   "outputs": [
    {
     "name": "stdout",
     "output_type": "stream",
     "text": [
      "x1 = 3.0,  x2 = 2.0\n",
      "x1 = (2.5+7.33143914930759j),  x2 = (2.5-7.33143914930759j)\n"
     ]
    }
   ],
   "source": [
    "import cmath\n",
    "\n",
    "def bhaskara(a, b, c):\n",
    "    delta = b ** 2 - 4 * a * c\n",
    "    if a == 0: return None, None\n",
    "    x1 = (-b + cmath.sqrt(delta)) / (2 * a)\n",
    "    x2 = (-b - cmath.sqrt(delta)) / (2 * a)\n",
    "    if x1.imag == 0:\n",
    "        x1 = x1.real\n",
    "    if x2.imag == 0:\n",
    "        x2 = x2.real\n",
    "    return x1, x2\n",
    "\n",
    "x1, x2 = bhaskara(1, -5, 6)\n",
    "print(f'x1 = {x1},  x2 = {x2}')\n",
    "\n",
    "x1, x2 = bhaskara(1, -5, 60)\n",
    "print(f'x1 = {x1},  x2 = {x2}')"
   ]
  }
 ],
 "metadata": {
  "kernelspec": {
   "display_name": "Python 3.9.13 ('grafos')",
   "language": "python",
   "name": "python3"
  },
  "language_info": {
   "codemirror_mode": {
    "name": "ipython",
    "version": 3
   },
   "file_extension": ".py",
   "mimetype": "text/x-python",
   "name": "python",
   "nbconvert_exporter": "python",
   "pygments_lexer": "ipython3",
   "version": "3.9.13"
  },
  "orig_nbformat": 4,
  "vscode": {
   "interpreter": {
    "hash": "1c7fb69ec0120a7bfae17680f5348dc79368d3eaaea67ee440f5569267ea8c67"
   }
  }
 },
 "nbformat": 4,
 "nbformat_minor": 2
}
