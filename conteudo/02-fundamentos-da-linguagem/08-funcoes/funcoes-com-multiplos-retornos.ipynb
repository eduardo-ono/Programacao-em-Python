{
 "cells": [
  {
   "cell_type": "code",
   "execution_count": null,
   "metadata": {},
   "outputs": [],
   "source": []
  },
  {
   "cell_type": "markdown",
   "metadata": {},
   "source": [
    "<h1 align=center>\n",
    "Funções com Múltiplos Retornos\n",
    "</h1>\n",
    "\n",
    "<h4 align=center>\n",
    "Prof. Eduardo Ono\n",
    "</h4>\n",
    "\n",
    "<br>"
   ]
  },
  {
   "cell_type": "markdown",
   "metadata": {},
   "source": [
    "<br>\n",
    "\n",
    "## Exemplos"
   ]
  },
  {
   "cell_type": "code",
   "execution_count": 1,
   "metadata": {},
   "outputs": [
    {
     "name": "stdout",
     "output_type": "stream",
     "text": [
      "x1 = 3.0, x2 = 2.0\n"
     ]
    }
   ],
   "source": [
    "import math\n",
    "\n",
    "def bhaskara(a, b, c):\n",
    "    delta = b ** 2 - 4 * a * c\n",
    "    if (a == 0 or delta < 0): return None, None\n",
    "    x1 = (-b + math.sqrt(delta)) / (2 * a)\n",
    "    x2 = (-b - math.sqrt(delta)) / (2 * a)\n",
    "    return x1, x2\n",
    "\n",
    "x1, x2 = bhaskara(1, -5, 6)\n",
    "print(f'x1 = {x1}, x2 = {x2}')"
   ]
  }
 ],
 "metadata": {
  "kernelspec": {
   "display_name": "python3-datascience",
   "language": "python",
   "name": "python3-datascience"
  },
  "language_info": {
   "codemirror_mode": {
    "name": "ipython",
    "version": 3
   },
   "file_extension": ".py",
   "mimetype": "text/x-python",
   "name": "python",
   "nbconvert_exporter": "python",
   "pygments_lexer": "ipython3",
   "version": "3.9.13"
  },
  "orig_nbformat": 4
 },
 "nbformat": 4,
 "nbformat_minor": 2
}
