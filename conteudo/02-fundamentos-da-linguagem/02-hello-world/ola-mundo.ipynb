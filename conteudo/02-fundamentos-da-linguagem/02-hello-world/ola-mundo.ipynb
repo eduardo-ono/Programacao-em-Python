{
 "cells": [
  {
   "cell_type": "markdown",
   "metadata": {},
   "source": [
    "## Olá Mundo!"
   ]
  },
  {
   "cell_type": "code",
   "execution_count": 13,
   "metadata": {},
   "outputs": [
    {
     "name": "stdout",
     "output_type": "stream",
     "text": [
      "Olá mundo!\n",
      "Olá mundo!\n"
     ]
    }
   ],
   "source": [
    "print('Olá mundo!')\n",
    "print(\"Olá mundo!\")"
   ]
  },
  {
   "cell_type": "markdown",
   "metadata": {},
   "source": [
    "* A função `print()` imprime uma mensagem na saída padrão, normalmente a tela, ou em um arquivo."
   ]
  },
  {
   "cell_type": "markdown",
   "metadata": {},
   "source": [
    "<br>\n",
    "\n",
    "## Sintaxe\n",
    "\n",
    "```python\n",
    "print(*objeto, sep=' ', end='\\n', file=sys.stdout, flush=False)\n",
    "```\n",
    "\n",
    "| Parâmetro | Descrição | Valor \"default\" |\n",
    "| --- | --- | --- |\n",
    "| `*objeto` | Objeto a ser impresso. O * indica que podem ser passados vários objetos. |\n",
    "| `sep` | Objetos são separados por `sep`. | `' '`\n",
    "| `end` | String inserida no final da linha. | `'\\n'`\n",
    "| `file` | Must be an object with write(string) method. If omitted, sys.stdout will be used which prints objects on the screen. | `sys.stdout`\n",
    "| `flush` | Controla se o \"stream\" é _flushed_ ou não. | False"
   ]
  },
  {
   "cell_type": "markdown",
   "metadata": {},
   "source": [
    "* Exemplos"
   ]
  },
  {
   "cell_type": "code",
   "execution_count": 17,
   "metadata": {},
   "outputs": [
    {
     "name": "stdout",
     "output_type": "stream",
     "text": [
      "c a s a\n",
      "casa\n"
     ]
    }
   ],
   "source": [
    "# default: sep=' '\n",
    "print('c', 'a', 's', 'a')\n",
    "\n",
    "print('c', 'a', 's', 'a', sep='')"
   ]
  },
  {
   "cell_type": "code",
   "execution_count": 20,
   "metadata": {},
   "outputs": [
    {
     "name": "stdout",
     "output_type": "stream",
     "text": [
      "Olá\n",
      "mundo!\n",
      "\n",
      "Olá mundo!\n",
      "Olá mundo!\n"
     ]
    }
   ],
   "source": [
    "#default: end='\\n'\n",
    "print('Olá')\n",
    "print('mundo!')\n",
    "print()\n",
    "\n",
    "print('Olá ', end='')\n",
    "print('mundo!')\n",
    "\n",
    "print('Olá', end=' ')\n",
    "print('mundo!')\n"
   ]
  },
  {
   "cell_type": "code",
   "execution_count": 21,
   "metadata": {},
   "outputs": [
    {
     "name": "stdout",
     "output_type": "stream",
     "text": [
      "Olá\n",
      "mundo!\n",
      "\n",
      "Olámundo!\n",
      "Olá mundo!\n",
      "Olá mundo!\n"
     ]
    }
   ],
   "source": [
    "print('Olá')\n",
    "print('mundo!')\n",
    "print() # Pula uma linha\n",
    "\n",
    "print('Olá', end='')\n",
    "print('mundo!')\n",
    "\n",
    "print('Olá ', end='')\n",
    "print('mundo!')\n",
    "\n",
    "print('Olá', end=' ')\n",
    "print('mundo!')\n"
   ]
  },
  {
   "cell_type": "code",
   "execution_count": 2,
   "metadata": {},
   "outputs": [
    {
     "name": "stdout",
     "output_type": "stream",
     "text": [
      "__main__\n"
     ]
    }
   ],
   "source": [
    "print(__name__)"
   ]
  },
  {
   "cell_type": "markdown",
   "metadata": {},
   "source": [
    "<br>\n",
    "\n",
    "## Referências\n",
    "\n",
    "* https://realpython.com/python-print/\n",
    "* https://www.codingem.com/python-print-function-parameters/"
   ]
  }
 ],
 "metadata": {
  "kernelspec": {
   "display_name": "python3-datascience",
   "language": "python",
   "name": "python3-datascience"
  },
  "language_info": {
   "codemirror_mode": {
    "name": "ipython",
    "version": 3
   },
   "file_extension": ".py",
   "mimetype": "text/x-python",
   "name": "python",
   "nbconvert_exporter": "python",
   "pygments_lexer": "ipython3",
   "version": "3.9.13"
  },
  "orig_nbformat": 4
 },
 "nbformat": 4,
 "nbformat_minor": 2
}
