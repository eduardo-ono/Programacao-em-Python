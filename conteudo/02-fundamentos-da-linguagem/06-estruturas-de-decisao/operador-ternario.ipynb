{
 "cells": [
  {
   "cell_type": "markdown",
   "metadata": {},
   "source": [
    "<table>\n",
    "<tr>\n",
    "<td align=\"left\" width=\"8000\">\n",
    "  <small>\n",
    "    <a href=\"https:github.com/eduardo-ono/Programacao-em-Python\">Programação em Python</a> >\n",
    "    Conceitos >\n",
    "    Estruturas de Decisão</small>\n",
    "</td>\n",
    "<td align=\"right\">\n",
    "  <small>Atualizado&nbsp;em:&nbsp;08/07/2022</small>\n",
    "</td>\n",
    "</tr>\n",
    "</table>"
   ]
  },
  {
   "cell_type": "markdown",
   "metadata": {},
   "source": [
    "<h1 align=\"center\">\n",
    "Operador Ternário\n",
    "</h1>\n",
    "\n",
    "<h4 align=\"center\">\n",
    "Prof. Eduardo Ono\n",
    "</h4>\n",
    "\n",
    "<br>"
   ]
  },
  {
   "cell_type": "markdown",
   "metadata": {},
   "source": [
    "..."
   ]
  },
  {
   "cell_type": "markdown",
   "metadata": {},
   "source": [
    "### Exemplo\n",
    "\n",
    "Verifica se um número inteiro é par ou ímpar:"
   ]
  },
  {
   "cell_type": "code",
   "execution_count": 19,
   "metadata": {},
   "outputs": [
    {
     "name": "stdout",
     "output_type": "stream",
     "text": [
      "num = 11\n",
      "O número é ímpar.\n"
     ]
    }
   ],
   "source": [
    "num = 11\n",
    "print(f'num = {num}')\n",
    "if num % 2 == 0:\n",
    "    print('O número é par.')\n",
    "else:\n",
    "    print('O número é ímpar.')"
   ]
  },
  {
   "cell_type": "markdown",
   "metadata": {},
   "source": [
    "Usando o comando ternário:"
   ]
  },
  {
   "cell_type": "code",
   "execution_count": 18,
   "metadata": {},
   "outputs": [
    {
     "name": "stdout",
     "output_type": "stream",
     "text": [
      "num = 12\n",
      "Par\n"
     ]
    }
   ],
   "source": [
    "num = 12\n",
    "print(f'num = {num}')\n",
    "print('Par') if num % 2 == 0 else print('Ímpar')"
   ]
  },
  {
   "cell_type": "markdown",
   "metadata": {},
   "source": [
    "## Vídeos de Apoio\n",
    "\n",
    "| Thumb | Descrição |\n",
    "| :-: | --- |\n",
    "| [![img](https://img.youtube.com/vi/5Ui37whUDrM/default.jpg)](https://www.youtube.com/watch?v=5Ui37whUDrM) | <sup>[Tech With Tim]</sup><br>[__5 Python BAD Practices To Avoid__](https://www.youtube.com/watch?v=5Ui37whUDrM)<br><sub>(19:26, YouTube, Ago/2021)</sub>\n"
   ]
  }
 ],
 "metadata": {
  "kernelspec": {
   "display_name": "python3-datascience",
   "language": "python",
   "name": "python3-datascience"
  },
  "language_info": {
   "codemirror_mode": {
    "name": "ipython",
    "version": 3
   },
   "file_extension": ".py",
   "mimetype": "text/x-python",
   "name": "python",
   "nbconvert_exporter": "python",
   "pygments_lexer": "ipython3",
   "version": "3.9.13"
  },
  "orig_nbformat": 4
 },
 "nbformat": 4,
 "nbformat_minor": 2
}
