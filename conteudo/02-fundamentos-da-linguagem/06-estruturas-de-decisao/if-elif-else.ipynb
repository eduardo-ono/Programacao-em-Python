{
 "cells": [
  {
   "cell_type": "code",
   "execution_count": null,
   "metadata": {},
   "outputs": [],
   "source": []
  },
  {
   "cell_type": "code",
   "execution_count": null,
   "metadata": {},
   "outputs": [],
   "source": []
  },
  {
   "cell_type": "code",
   "execution_count": null,
   "metadata": {},
   "outputs": [],
   "source": []
  },
  {
   "cell_type": "code",
   "execution_count": 1,
   "metadata": {},
   "outputs": [
    {
     "name": "stdout",
     "output_type": "stream",
     "text": [
      "Maior de idade.\n"
     ]
    }
   ],
   "source": [
    "idade = 23\n",
    "if (idade < 18):\n",
    "    print('Menor de idade.')\n",
    "else:\n",
    "    print('Maior de idade.')"
   ]
  },
  {
   "cell_type": "code",
   "execution_count": 9,
   "metadata": {},
   "outputs": [
    {
     "name": "stdout",
     "output_type": "stream",
     "text": [
      "Adulto\n"
     ]
    }
   ],
   "source": [
    "idade = 49\n",
    "if (idade < 18):\n",
    "    print('Jovem')\n",
    "elif (idade < 65):\n",
    "    print('Adulto')\n",
    "else:\n",
    "    print('Idoso')"
   ]
  },
  {
   "cell_type": "code",
   "execution_count": 11,
   "metadata": {},
   "outputs": [
    {
     "name": "stdout",
     "output_type": "stream",
     "text": [
      "IMC =  23.671253629592222\n",
      "Peso normal.\n"
     ]
    }
   ],
   "source": [
    "peso = 75\n",
    "altura = 1.78\n",
    "imc = peso / altura ** 2\n",
    "print('IMC = ', imc)\n",
    "if (imc < 18.5):\n",
    "    print('Abaixo do peso.')\n",
    "elif (imc < 25):\n",
    "    print('Peso normal.')\n",
    "else:\n",
    "    print('Acima do peso.')"
   ]
  },
  {
   "cell_type": "markdown",
   "metadata": {},
   "source": [
    "### Vídeos Recomendados\n",
    "\n",
    "| Thumb | Descrição |\n",
    "| :-: | --- |\n",
    "| [![img](https://img.youtube.com/vi/ZKIOXUbQdBI/default.jpg)](https://www.youtube.com/watch?v=ZKIOXUbQdBI) | <sup>[Walisson Silva]</sup><br>[__#03 - Estrutura de Decisão: IF, ELIF e ELSE \\| Curso de Python para Pesquisadores__](https://www.youtube.com/watch?v=ZKIOXUbQdBI)<br><sub>(11:01, YouTube, Abr/2019)</sub>\n"
   ]
  }
 ],
 "metadata": {
  "kernelspec": {
   "display_name": "python3-datascience",
   "language": "python",
   "name": "python3-datascience"
  },
  "language_info": {
   "codemirror_mode": {
    "name": "ipython",
    "version": 3
   },
   "file_extension": ".py",
   "mimetype": "text/x-python",
   "name": "python",
   "nbconvert_exporter": "python",
   "pygments_lexer": "ipython3",
   "version": "3.9.13"
  },
  "orig_nbformat": 4
 },
 "nbformat": 4,
 "nbformat_minor": 2
}
