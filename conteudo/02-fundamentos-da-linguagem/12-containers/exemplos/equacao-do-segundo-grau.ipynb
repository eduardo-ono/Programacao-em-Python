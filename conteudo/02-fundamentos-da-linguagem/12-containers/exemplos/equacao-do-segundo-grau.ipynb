{
 "cells": [
  {
   "cell_type": "markdown",
   "metadata": {},
   "source": [
    "#\n"
   ]
  },
  {
   "cell_type": "markdown",
   "metadata": {},
   "source": [
    "## Equação do Segundo Grau"
   ]
  },
  {
   "cell_type": "code",
   "execution_count": 52,
   "metadata": {},
   "outputs": [],
   "source": [
    "def bhaskara(a, b, c):\n",
    "    '''\n",
    "    dfvdfvdf\n",
    "    '''\n",
    "    delta = b ** 2 - 4 * a * c\n",
    "    x1 = (-b + delta ** 0.5) / (2 * a)\n",
    "    x2 = (-b - delta ** 0.5) / (2 * a)\n",
    "    return (x1, x2) # Retorna uma tupla"
   ]
  },
  {
   "cell_type": "code",
   "execution_count": 55,
   "metadata": {},
   "outputs": [
    {
     "name": "stdout",
     "output_type": "stream",
     "text": [
      "1 5 60\n",
      "x1 = -2.500+7.331j\n",
      "x2 = -2.500-7.331j\n"
     ]
    }
   ],
   "source": [
    "coeficientes = (1, 5, 60)\n",
    "print(*coeficientes)\n",
    "(x1, x2) = bhaskara(*coeficientes)\n",
    "print(f'x1 = {x1:.3f}')\n",
    "print(f'x2 = {x2:.3f}')"
   ]
  },
  {
   "cell_type": "code",
   "execution_count": 53,
   "metadata": {},
   "outputs": [
    {
     "name": "stdout",
     "output_type": "stream",
     "text": [
      "Help on function bhaskara in module __main__:\n",
      "\n",
      "bhaskara(a, b, c)\n",
      "    dfvdfvdf\n",
      "\n"
     ]
    }
   ],
   "source": [
    "help(bhaskara)"
   ]
  }
 ],
 "metadata": {
  "kernelspec": {
   "display_name": "Python 3.9.13 ('base')",
   "language": "python",
   "name": "python3"
  },
  "language_info": {
   "codemirror_mode": {
    "name": "ipython",
    "version": 3
   },
   "file_extension": ".py",
   "mimetype": "text/x-python",
   "name": "python",
   "nbconvert_exporter": "python",
   "pygments_lexer": "ipython3",
   "version": "3.9.13"
  },
  "orig_nbformat": 4,
  "vscode": {
   "interpreter": {
    "hash": "6ca436f98112c699fca53176ca9b2af64a577e7d8248f3b63a91e306eedca64e"
   }
  }
 },
 "nbformat": 4,
 "nbformat_minor": 2
}
