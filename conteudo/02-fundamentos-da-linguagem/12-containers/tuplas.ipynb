{
 "cells": [
  {
   "cell_type": "markdown",
   "metadata": {},
   "source": [
    "## Conceito\n",
    "\n",
    "> Uma __*tupla*__ é uma sequência de dados.\n",
    "\n",
    "&nbsp;\n",
    "\n",
    "## Características\n",
    "\n",
    "* São imutáveis.\n",
    "* Aceitam diferentes tipos de dados na mesma tupla."
   ]
  },
  {
   "cell_type": "markdown",
   "metadata": {},
   "source": [
    "### Exemplos"
   ]
  },
  {
   "cell_type": "code",
   "execution_count": 19,
   "metadata": {},
   "outputs": [
    {
     "name": "stdout",
     "output_type": "stream",
     "text": [
      "(1, 2, 3, 4, 5)\n",
      "(1, 2, 3, 4, 5)\n"
     ]
    }
   ],
   "source": [
    "tupla = 1, 2, 3, 4, 5\n",
    "print(tupla)\n",
    "tupla = (1, 2, 3, 4, 5)\n",
    "print(tupla)"
   ]
  },
  {
   "cell_type": "code",
   "execution_count": 16,
   "metadata": {},
   "outputs": [
    {
     "name": "stdout",
     "output_type": "stream",
     "text": [
      "D\n",
      "1\n",
      "[100, 4, 9, 16, 25]\n",
      "(1, 4, 9, 16, 25)\n",
      "[1, 4, 9, 16, 25]\n"
     ]
    }
   ],
   "source": [
    "def f(x):\n",
    "    return x ** 2\n",
    "\n",
    "dicionario = {'A':['B', 'C', 'D']}\n",
    "print(dicionario['A'][2])\n",
    "tupla = (1, 2, 3, 4, 5)\n",
    "print(tupla[0])\n",
    "nova_lista = list(f(x) for x in tupla)\n",
    "nova_tupla = tuple(f(x) for x in tupla)\n",
    "nova_lista[0] = 100\n",
    "print(nova_lista)\n",
    "print(nova_tupla)\n",
    "print(list(f(x) for x in tupla))"
   ]
  }
 ],
 "metadata": {
  "kernelspec": {
   "display_name": "python3-grafos",
   "language": "python",
   "name": "python3-grafos"
  },
  "language_info": {
   "codemirror_mode": {
    "name": "ipython",
    "version": 3
   },
   "file_extension": ".py",
   "mimetype": "text/x-python",
   "name": "python",
   "nbconvert_exporter": "python",
   "pygments_lexer": "ipython3",
   "version": "3.9.13"
  },
  "orig_nbformat": 4
 },
 "nbformat": 4,
 "nbformat_minor": 2
}
