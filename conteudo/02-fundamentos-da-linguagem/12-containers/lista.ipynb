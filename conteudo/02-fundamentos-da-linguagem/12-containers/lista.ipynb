{
 "cells": [
  {
   "cell_type": "markdown",
   "id": "fbcccc5f-492c-4bd5-a3e6-bf89d516c296",
   "metadata": {
    "tags": []
   },
   "source": [
    "> Programação em Python > Conteúdo > Python\n",
    "\n",
    "<div align=\"center\">\n",
    "\n",
    "# Listas\n",
    "\n",
    "Prof. Eduardo Ono\n",
    "\n",
    "</div>\n",
    "\n",
    "&nbsp;"
   ]
  },
  {
   "cell_type": "markdown",
   "id": "6a85caf2",
   "metadata": {},
   "source": [
    "Uma __*list*__ em Python é uma estrutura de dados implementada a partir de um array dinâmico. "
   ]
  },
  {
   "cell_type": "code",
   "execution_count": 20,
   "id": "d068dad9",
   "metadata": {},
   "outputs": [],
   "source": [
    "import numpy as np\n",
    "import random"
   ]
  },
  {
   "cell_type": "markdown",
   "id": "87e2393d",
   "metadata": {},
   "source": [
    "## Propriedades\n",
    "\n",
    "* Listas são heterogêneas, ou seja, aceitam elementos de diferentes tipos;\n",
    "* Listas são mutáveis;\n",
    "* A concatenação de listas produz uma nova lista."
   ]
  },
  {
   "cell_type": "markdown",
   "id": "943ad537",
   "metadata": {},
   "source": [
    "## Manipulação de Listas\n",
    "\n",
    "| Método | Descrição |\n",
    "| --- | --- |\n",
    "| append(valor) | Insere um elemento ao final da lista.\n",
    "| extend(lista) | Insere uma lista ao final da lista.\n",
    "| remove(valor) | Remove a primeira ocorrência do elemento da lista.\n",
    "| "
   ]
  },
  {
   "cell_type": "markdown",
   "id": "cb8e01c3",
   "metadata": {},
   "source": [
    "### Exemplos"
   ]
  },
  {
   "cell_type": "code",
   "execution_count": 21,
   "id": "207f8aff",
   "metadata": {},
   "outputs": [
    {
     "name": "stdout",
     "output_type": "stream",
     "text": [
      "lista1: [10, 20, 3, 4, 5]\n",
      "lista2: [10, 20, 3, 4, 5]\n",
      "lista1: [1, 2, 3, 4, 5, 3, 10]\n",
      "lista2: [1, 2, 3, 4, 5, 3, 10]\n"
     ]
    }
   ],
   "source": [
    "# Mutabilidade\n",
    "lista1 = [1, 2, 3, 4, 5]\n",
    "lista2 = lista1\n",
    "lista1[0] = 10\n",
    "lista2[1] = 20\n",
    "print('lista1:', lista1)\n",
    "print('lista2:', lista2)\n",
    "\n",
    "# Listas são dinâmicas\n",
    "lista1 = [1, 2, 3, 4, 5]\n",
    "lista2 = lista1\n",
    "lista1.append(3)\n",
    "lista2.append(10)\n",
    "print('lista1:', lista1)\n",
    "print('lista2:', lista2)"
   ]
  },
  {
   "cell_type": "markdown",
   "id": "74157155",
   "metadata": {},
   "source": [
    "## Dicas de Programação"
   ]
  },
  {
   "cell_type": "code",
   "execution_count": 22,
   "id": "35be1cd9",
   "metadata": {},
   "outputs": [
    {
     "name": "stdout",
     "output_type": "stream",
     "text": [
      "Lista original: [0, 1, 2, 3, 4, 5, 6, 7, 8, 9]\n",
      "Após remoção: [0, 1, 2, 3, 4, 6, 7, 8, 9]\n"
     ]
    }
   ],
   "source": [
    "# Modo seguro para remover um elemento da lista\n",
    "lista = list(range(10))\n",
    "print('Lista original:', lista)\n",
    "num = 5\n",
    "if num in lista:\n",
    "    lista.remove(num)\n",
    "print('Após remoção:', lista)"
   ]
  },
  {
   "cell_type": "code",
   "execution_count": 23,
   "id": "8b7e4820",
   "metadata": {},
   "outputs": [
    {
     "name": "stdout",
     "output_type": "stream",
     "text": [
      "[5, 4, 5, 3, 6, 4, 7, 4, 5, 0, 4, 4, 1, 0, 5, 0, 6, 6, 5, 0, 9, 6, 0, 5, 3]\n",
      "[4, 3, 6, 4, 7, 4, 0, 4, 4, 1, 0, 0, 6, 6, 0, 9, 6, 0, 3]\n"
     ]
    }
   ],
   "source": [
    "# Modo seguro para remover todas as ocorrências de um elemento da lista\n",
    "import random\n",
    "\n",
    "lista = [random.randint(0, 9) for i in range(25)]\n",
    "print(lista)\n",
    "num = 5\n",
    "while num in lista:\n",
    "    lista.remove(num)\n",
    "print(lista)"
   ]
  },
  {
   "cell_type": "markdown",
   "id": "8dff8a9c",
   "metadata": {},
   "source": [
    "### Exemplos"
   ]
  },
  {
   "cell_type": "code",
   "execution_count": 24,
   "id": "8ae69ea7-c116-4e61-8e04-ff2fcf215269",
   "metadata": {},
   "outputs": [
    {
     "name": "stdout",
     "output_type": "stream",
     "text": [
      "[91, 51, 68, 88, 20, 23, 40, 66, 59, 47]\n"
     ]
    }
   ],
   "source": [
    "lista = []\n",
    "# Gera 10 números inteiros aleatórios no intervalo [0, 100)\n",
    "for i in range(0, 10):\n",
    "    num = random.randint(0, 100)\n",
    "    lista.append(num)\n",
    "print(lista)\n"
   ]
  },
  {
   "cell_type": "code",
   "execution_count": 6,
   "id": "4d21e5c3",
   "metadata": {},
   "outputs": [
    {
     "name": "stdout",
     "output_type": "stream",
     "text": [
      "Menor elemento: 0\n",
      "Maior elemento: 9\n",
      "Três menores elementos: [0, 1, 2]\n",
      "Quatro maiores elementos: [9, 8, 8, 7]\n"
     ]
    }
   ],
   "source": [
    "# Encontrar o menor e maior elemento da lista\n",
    "import heapq\n",
    "\n",
    "lista = [5, 4, 7, 2, 9, 6, 1, 5, 8, 4, 3, 8, 0, 2]\n",
    "\n",
    "print('Menor elemento:', min(lista))\n",
    "print('Maior elemento:', max(lista))\n",
    "\n",
    "print('Três menores elementos:', heapq.nsmallest(3, lista))\n",
    "print('Quatro maiores elementos:', heapq.nlargest(4, lista))"
   ]
  }
 ],
 "metadata": {
  "kernelspec": {
   "display_name": "python3-grafos",
   "language": "python",
   "name": "python3-grafos"
  },
  "language_info": {
   "codemirror_mode": {
    "name": "ipython",
    "version": 3
   },
   "file_extension": ".py",
   "mimetype": "text/x-python",
   "name": "python",
   "nbconvert_exporter": "python",
   "pygments_lexer": "ipython3",
   "version": "3.9.13"
  },
  "vscode": {
   "interpreter": {
    "hash": "1c7fb69ec0120a7bfae17680f5348dc79368d3eaaea67ee440f5569267ea8c67"
   }
  }
 },
 "nbformat": 4,
 "nbformat_minor": 5
}
