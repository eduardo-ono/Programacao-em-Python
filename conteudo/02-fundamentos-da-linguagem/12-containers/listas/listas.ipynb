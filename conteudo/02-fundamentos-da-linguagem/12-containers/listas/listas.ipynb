{
 "cells": [
  {
   "cell_type": "markdown",
   "id": "fbcccc5f-492c-4bd5-a3e6-bf89d516c296",
   "metadata": {
    "tags": []
   },
   "source": [
    "> Programação em Python > Conteúdo > Python\n",
    "\n",
    "<div align=\"center\">\n",
    "\n",
    "# Listas\n",
    "\n",
    "Prof. Eduardo Ono\n",
    "\n",
    "</div>\n",
    "\n",
    "&nbsp;"
   ]
  },
  {
   "cell_type": "markdown",
   "id": "6a85caf2",
   "metadata": {},
   "source": [
    "> Uma __lista__ é uma sequência de valores. Em Python, uma __*list*__ é uma estrutura de dados implementada a partir de um array dinâmico."
   ]
  },
  {
   "cell_type": "code",
   "execution_count": 1,
   "id": "d068dad9",
   "metadata": {},
   "outputs": [],
   "source": [
    "import numpy as np\n",
    "import random"
   ]
  },
  {
   "cell_type": "markdown",
   "id": "87e2393d",
   "metadata": {},
   "source": [
    "## Propriedades\n",
    "\n",
    "* Listas são heterogêneas, ou seja, aceitam elementos de diferentes tipos;\n",
    "* Listas são mutáveis;\n",
    "* A concatenação de listas produz uma nova lista.\n",
    "* Os elementos de uma lista são indexados, a partir do índice zero.\n",
    "* Listas são passadas por referência à uma função."
   ]
  },
  {
   "cell_type": "markdown",
   "id": "cd34ab1b",
   "metadata": {},
   "source": [
    "### Exemplos"
   ]
  },
  {
   "cell_type": "code",
   "execution_count": 37,
   "id": "2002e10c",
   "metadata": {},
   "outputs": [
    {
     "name": "stdout",
     "output_type": "stream",
     "text": [
      "[]\n",
      "<class 'list'>\n",
      "[]\n",
      "<class 'list'>\n"
     ]
    }
   ],
   "source": [
    "# Cria uma lista vazia\n",
    "lista1 = []\n",
    "print(lista1)\n",
    "print(type(lista1))\n",
    "\n",
    "lista2 = list()\n",
    "print(lista2)\n",
    "print(type(lista2))"
   ]
  },
  {
   "cell_type": "code",
   "execution_count": 38,
   "id": "05f0b302",
   "metadata": {},
   "outputs": [
    {
     "name": "stdout",
     "output_type": "stream",
     "text": [
      "['abacaxi', 45, 3.1416]\n"
     ]
    }
   ],
   "source": [
    "# Lista heterogênea\n",
    "\n",
    "lista = ['abacaxi', 45, 3.1416]\n",
    "print(lista)"
   ]
  },
  {
   "cell_type": "code",
   "execution_count": 40,
   "id": "14786bff",
   "metadata": {},
   "outputs": [
    {
     "name": "stdout",
     "output_type": "stream",
     "text": [
      "[1, 2, 3, 4, [10, 20, 30], 5, 6]\n",
      "7\n"
     ]
    }
   ],
   "source": [
    "# Listas \"aninhada\"\n",
    "\n",
    "lista = [1, 2, 3, 4, [10, 20, 30], 5, 6]\n",
    "print(lista)\n",
    "print(len(lista))"
   ]
  },
  {
   "cell_type": "code",
   "execution_count": 21,
   "id": "915fa91a",
   "metadata": {},
   "outputs": [
    {
     "name": "stdout",
     "output_type": "stream",
     "text": [
      "2158191695040\n",
      "2158192892672\n"
     ]
    }
   ],
   "source": [
    "lista1 = [1, 2, 3, 4]\n",
    "lista2 = [1, 2, 3, 4]\n",
    "print(id(lista1))\n",
    "print(id(lista2))"
   ]
  },
  {
   "cell_type": "code",
   "execution_count": 41,
   "id": "f009ae7f",
   "metadata": {},
   "outputs": [
    {
     "name": "stdout",
     "output_type": "stream",
     "text": [
      "2158193294336\n",
      "2158193294336\n",
      "[10, 2, 3, 4]\n"
     ]
    }
   ],
   "source": [
    "lista1 = [1, 2, 3, 4]\n",
    "lista2 = lista1\n",
    "print(id(lista1))\n",
    "print(id(lista2))\n",
    "lista2[0] = 10\n",
    "print(lista1)"
   ]
  },
  {
   "cell_type": "code",
   "execution_count": 43,
   "id": "f321e8b0",
   "metadata": {},
   "outputs": [
    {
     "name": "stdout",
     "output_type": "stream",
     "text": [
      "2158192611968\n",
      "2158160545920\n",
      "[1, 2, 3, 4, 5]\n",
      "[10, 2, 3, 4, 5]\n"
     ]
    }
   ],
   "source": [
    "lista1 = [1, 2, 3, 4, 5]\n",
    "lista2 = list(lista1)\n",
    "print(id(lista1))\n",
    "print(id(lista2))\n",
    "lista2[0] = 10\n",
    "print(lista1)\n",
    "print(lista2)"
   ]
  },
  {
   "cell_type": "markdown",
   "id": "943ad537",
   "metadata": {},
   "source": [
    "## Métodos para Manipulação de Listas\n",
    "\n",
    "| Método | Descrição |\n",
    "| --- | --- |\n",
    "| append(valor) | Insere um elemento ao final da lista.\n",
    "| extend(lista) | Insere uma segunda lista ao final da lista.\n",
    "| remove(valor) | Remove a primeira ocorrência do elemento da lista.\n",
    "| "
   ]
  },
  {
   "cell_type": "markdown",
   "id": "cb8e01c3",
   "metadata": {},
   "source": [
    "### Exemplos"
   ]
  },
  {
   "cell_type": "code",
   "execution_count": 21,
   "id": "207f8aff",
   "metadata": {},
   "outputs": [
    {
     "name": "stdout",
     "output_type": "stream",
     "text": [
      "lista1: [10, 20, 3, 4, 5]\n",
      "lista2: [10, 20, 3, 4, 5]\n",
      "lista1: [1, 2, 3, 4, 5, 3, 10]\n",
      "lista2: [1, 2, 3, 4, 5, 3, 10]\n"
     ]
    }
   ],
   "source": [
    "# Mutabilidade\n",
    "lista1 = [1, 2, 3, 4, 5]\n",
    "lista2 = lista1\n",
    "lista1[0] = 10\n",
    "lista2[1] = 20\n",
    "print('lista1:', lista1)\n",
    "print('lista2:', lista2)\n",
    "\n",
    "# Listas são dinâmicas\n",
    "lista1 = [1, 2, 3, 4, 5]\n",
    "lista2 = lista1\n",
    "lista1.append(3)\n",
    "lista2.append(10)\n",
    "print('lista1:', lista1)\n",
    "print('lista2:', lista2)"
   ]
  },
  {
   "cell_type": "markdown",
   "id": "74157155",
   "metadata": {},
   "source": [
    "### Dicas de Programação"
   ]
  },
  {
   "cell_type": "code",
   "execution_count": 22,
   "id": "35be1cd9",
   "metadata": {},
   "outputs": [
    {
     "name": "stdout",
     "output_type": "stream",
     "text": [
      "Lista original: [0, 1, 2, 3, 4, 5, 6, 7, 8, 9]\n",
      "Após remoção: [0, 1, 2, 3, 4, 6, 7, 8, 9]\n"
     ]
    }
   ],
   "source": [
    "# Modo seguro para remover um elemento da lista\n",
    "lista = list(range(10))\n",
    "print('Lista original:', lista)\n",
    "num = 5\n",
    "if num in lista:\n",
    "    lista.remove(num)\n",
    "print('Após remoção:', lista)"
   ]
  },
  {
   "cell_type": "code",
   "execution_count": 23,
   "id": "8b7e4820",
   "metadata": {},
   "outputs": [
    {
     "name": "stdout",
     "output_type": "stream",
     "text": [
      "[5, 4, 5, 3, 6, 4, 7, 4, 5, 0, 4, 4, 1, 0, 5, 0, 6, 6, 5, 0, 9, 6, 0, 5, 3]\n",
      "[4, 3, 6, 4, 7, 4, 0, 4, 4, 1, 0, 0, 6, 6, 0, 9, 6, 0, 3]\n"
     ]
    }
   ],
   "source": [
    "# Modo seguro para remover todas as ocorrências de um elemento da lista\n",
    "import random\n",
    "\n",
    "lista = [random.randint(0, 9) for i in range(25)]\n",
    "print(lista)\n",
    "num = 5\n",
    "while num in lista:\n",
    "    lista.remove(num)\n",
    "print(lista)"
   ]
  },
  {
   "cell_type": "markdown",
   "id": "8dff8a9c",
   "metadata": {},
   "source": [
    "### Exemplos"
   ]
  },
  {
   "cell_type": "code",
   "execution_count": 34,
   "id": "8ae69ea7-c116-4e61-8e04-ff2fcf215269",
   "metadata": {},
   "outputs": [
    {
     "name": "stdout",
     "output_type": "stream",
     "text": [
      "[1, 4, 5, 3, 8, 5, 2, 9, 7, 2]\n",
      "[0.9595452113664515, 8.569135229649447, 1.321581662725565, 3.057343439843996, 5.9159245578666555, 2.9212542991148083, 9.683217111628801, 4.732425947532704, 0.14138376021050725, 1.6318688815761662]\n"
     ]
    }
   ],
   "source": [
    "import random\n",
    "\n",
    "lista1 = []\n",
    "# Gera 10 números inteiros aleatórios no intervalo [0, 10]\n",
    "for i in range(0, 10):\n",
    "    num = random.randint(0, 10)\n",
    "    lista1.append(num)\n",
    "print(lista1)\n",
    "\n",
    "lista2 = list()\n",
    "for i in range(0, 10):\n",
    "    num = random.uniform(0, 10)\n",
    "    lista2.append(num)\n",
    "print(lista2)"
   ]
  },
  {
   "cell_type": "code",
   "execution_count": 35,
   "id": "115536cd",
   "metadata": {},
   "outputs": [
    {
     "name": "stdout",
     "output_type": "stream",
     "text": [
      "[4, 9, 1, 8, 2, 7, 6, 0, 1, 1]\n"
     ]
    }
   ],
   "source": [
    "# List comprehension\n",
    "lista3 = [random.randint(0, 10) for i in range(0, 10)]\n",
    "print(lista3)"
   ]
  },
  {
   "cell_type": "code",
   "execution_count": 6,
   "id": "4d21e5c3",
   "metadata": {},
   "outputs": [
    {
     "name": "stdout",
     "output_type": "stream",
     "text": [
      "Menor elemento: 0\n",
      "Maior elemento: 9\n",
      "Três menores elementos: [0, 1, 2]\n",
      "Quatro maiores elementos: [9, 8, 8, 7]\n"
     ]
    }
   ],
   "source": [
    "# Encontrar o menor e maior elemento da lista\n",
    "import heapq\n",
    "\n",
    "lista = [5, 4, 7, 2, 9, 6, 1, 5, 8, 4, 3, 8, 0, 2]\n",
    "\n",
    "print('Menor elemento:', min(lista))\n",
    "print('Maior elemento:', max(lista))\n",
    "\n",
    "print('Três menores elementos:', heapq.nsmallest(3, lista))\n",
    "print('Quatro maiores elementos:', heapq.nlargest(4, lista))"
   ]
  }
 ],
 "metadata": {
  "kernelspec": {
   "display_name": "python3-grafos",
   "language": "python",
   "name": "python3-grafos"
  },
  "language_info": {
   "codemirror_mode": {
    "name": "ipython",
    "version": 3
   },
   "file_extension": ".py",
   "mimetype": "text/x-python",
   "name": "python",
   "nbconvert_exporter": "python",
   "pygments_lexer": "ipython3",
   "version": "3.9.13"
  },
  "vscode": {
   "interpreter": {
    "hash": "6ca436f98112c699fca53176ca9b2af64a577e7d8248f3b63a91e306eedca64e"
   }
  }
 },
 "nbformat": 4,
 "nbformat_minor": 5
}
