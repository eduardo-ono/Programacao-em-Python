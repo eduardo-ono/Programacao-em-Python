{
 "cells": [
  {
   "cell_type": "markdown",
   "metadata": {},
   "source": [
    "# Empacotamento e Desempacotamento de Parâmetros de Funções\n",
    "\n",
    "__Prof. Eduardo Ono__\n",
    "\n",
    "&nbsp;"
   ]
  },
  {
   "cell_type": "markdown",
   "metadata": {},
   "source": [
    "## Desempacotamento"
   ]
  },
  {
   "cell_type": "code",
   "execution_count": 2,
   "metadata": {},
   "outputs": [
    {
     "name": "stdout",
     "output_type": "stream",
     "text": [
      "caju\n"
     ]
    }
   ],
   "source": [
    "lista = ['caju', 'abacaxi', 'banana']\n",
    "(fruta1, fruta2, fruta3) = lista\n",
    "print(fruta1)"
   ]
  },
  {
   "cell_type": "code",
   "execution_count": 6,
   "metadata": {},
   "outputs": [
    {
     "name": "stdout",
     "output_type": "stream",
     "text": [
      "caju abacaxi\n",
      "['banana', 'morango', 'carambola']\n",
      "caju abacaxi\n",
      "['banana', 'morango']\n",
      "carambola\n"
     ]
    }
   ],
   "source": [
    "lista = ['caju', 'abacaxi', 'banana', 'morango', 'carambola']\n",
    "(fruta1, fruta2, *outras_frutas) = lista\n",
    "print(fruta1, fruta2)\n",
    "print(outras_frutas)\n",
    "(fruta1, fruta2, *outras_frutas, ultima_fruta) = lista\n",
    "print(fruta1, fruta2)\n",
    "print(outras_frutas)\n",
    "print(ultima_fruta)"
   ]
  },
  {
   "cell_type": "markdown",
   "metadata": {},
   "source": [
    "## Desempacotamento em Funções"
   ]
  },
  {
   "cell_type": "code",
   "execution_count": 19,
   "metadata": {},
   "outputs": [],
   "source": [
    "def calcular_imc(nome, peso, altura):\n",
    "    imc = None\n",
    "    if peso > 0 and altura > 0:\n",
    "        imc = peso / altura ** 2\n",
    "    return imc"
   ]
  },
  {
   "cell_type": "code",
   "execution_count": 20,
   "metadata": {},
   "outputs": [
    {
     "name": "stdout",
     "output_type": "stream",
     "text": [
      "IMC = 27.1\n"
     ]
    }
   ],
   "source": [
    "imc = calcular_imc('Fulano', 81, 1.73)\n",
    "print(f'IMC = {imc:.1f}')"
   ]
  },
  {
   "cell_type": "markdown",
   "metadata": {},
   "source": [
    "### Listas\n",
    "\n",
    "* Os elementos de uma lista são \"desempacotados\" através do uso do operador `*` antes do nome da lista."
   ]
  },
  {
   "cell_type": "code",
   "execution_count": 10,
   "metadata": {},
   "outputs": [
    {
     "name": "stdout",
     "output_type": "stream",
     "text": [
      "IMC = 27.1\n"
     ]
    }
   ],
   "source": [
    "paciente = ['Fulano de Tal', 81, 1.73]\n",
    "imc = calcular_imc(*paciente)\n",
    "print(f'IMC = {imc:.1f}')"
   ]
  },
  {
   "cell_type": "code",
   "execution_count": 11,
   "metadata": {},
   "outputs": [
    {
     "name": "stdout",
     "output_type": "stream",
     "text": [
      "IMC = 27.1\n"
     ]
    }
   ],
   "source": [
    "nome = 'Fulano de Tal'\n",
    "dados = [81, 1.73]\n",
    "imc = calcular_imc(nome, *dados)\n",
    "print(f'IMC = {imc:.1f}')"
   ]
  },
  {
   "cell_type": "markdown",
   "metadata": {},
   "source": [
    "### Dicionários\n",
    "\n",
    "* Os elementos de um dicionário são \"desempacotados\" através do uso do operador ** antes do nome do dicionário."
   ]
  },
  {
   "cell_type": "code",
   "execution_count": 15,
   "metadata": {},
   "outputs": [
    {
     "name": "stdout",
     "output_type": "stream",
     "text": [
      "{'nome': 'Fulano de Tal', 'peso': 81, 'altura': 1.73}\n",
      "IMC = 27.1\n"
     ]
    }
   ],
   "source": [
    "paciente = { 'nome': 'Fulano de Tal', 'peso': 81, 'altura': 1.73 }\n",
    "imc = calcular_imc(**paciente)\n",
    "print(f'IMC = {imc:.1f}')"
   ]
  },
  {
   "cell_type": "code",
   "execution_count": 23,
   "metadata": {},
   "outputs": [
    {
     "name": "stdout",
     "output_type": "stream",
     "text": [
      "IMC = 22.7\n"
     ]
    }
   ],
   "source": [
    "nome = 'Ciclano de Tal'\n",
    "dados = { 'altura': 1.68, 'peso': 64 }\n",
    "imc = calcular_imc(nome, **dados)\n",
    "print(f'IMC = {imc:.1f}')"
   ]
  }
 ],
 "metadata": {
  "kernelspec": {
   "display_name": "python3-grafos",
   "language": "python",
   "name": "python3-grafos"
  },
  "language_info": {
   "codemirror_mode": {
    "name": "ipython",
    "version": 3
   },
   "file_extension": ".py",
   "mimetype": "text/x-python",
   "name": "python",
   "nbconvert_exporter": "python",
   "pygments_lexer": "ipython3",
   "version": "3.9.13"
  },
  "orig_nbformat": 4
 },
 "nbformat": 4,
 "nbformat_minor": 2
}
