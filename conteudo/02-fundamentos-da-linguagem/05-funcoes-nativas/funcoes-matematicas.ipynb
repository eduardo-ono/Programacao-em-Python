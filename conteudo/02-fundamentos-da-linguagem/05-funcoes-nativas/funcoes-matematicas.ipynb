{
 "cells": [
  {
   "cell_type": "markdown",
   "metadata": {},
   "source": []
  },
  {
   "cell_type": "markdown",
   "metadata": {},
   "source": [
    "<h1 align=\"center\">\n",
    "Funções Matemáticas\n",
    "</h1>\n",
    "\n",
    "<h4 align=\"center\">\n",
    "Prof. Eduardo Ono\n",
    "</h4>\n",
    "\n",
    "<br>"
   ]
  },
  {
   "cell_type": "code",
   "execution_count": 4,
   "metadata": {},
   "outputs": [
    {
     "name": "stdout",
     "output_type": "stream",
     "text": [
      "IMC = 22.985397512168742\n",
      "IMC = 22.985397512168742\n"
     ]
    }
   ],
   "source": [
    "import math\n",
    "\n",
    "peso = 68\n",
    "altura = 1.72\n",
    "imc = peso / altura ** 2\n",
    "print('IMC =', imc)\n",
    "imc = peso / math.pow(altura, 2)\n",
    "print('IMC =', imc)"
   ]
  }
 ],
 "metadata": {
  "kernelspec": {
   "display_name": "python3-datascience",
   "language": "python",
   "name": "python3-datascience"
  },
  "language_info": {
   "codemirror_mode": {
    "name": "ipython",
    "version": 3
   },
   "file_extension": ".py",
   "mimetype": "text/x-python",
   "name": "python",
   "nbconvert_exporter": "python",
   "pygments_lexer": "ipython3",
   "version": "3.9.13"
  },
  "orig_nbformat": 4
 },
 "nbformat": 4,
 "nbformat_minor": 2
}
