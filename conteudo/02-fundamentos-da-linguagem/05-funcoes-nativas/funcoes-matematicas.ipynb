{
 "cells": [
  {
   "cell_type": "markdown",
   "metadata": {},
   "source": []
  },
  {
   "cell_type": "markdown",
   "metadata": {},
   "source": [
    "# Funções Matemáticas\n",
    "\n",
    "---\n",
    "\n",
    "Prof. Eduardo Ono\n",
    "\n",
    "&nbsp;"
   ]
  },
  {
   "cell_type": "code",
   "execution_count": 10,
   "metadata": {},
   "outputs": [
    {
     "name": "stdout",
     "output_type": "stream",
     "text": [
      "3.141592653589793\n"
     ]
    }
   ],
   "source": [
    "import math\n",
    "\n",
    "pi = math.pi\n",
    "print(pi)"
   ]
  },
  {
   "cell_type": "markdown",
   "metadata": {},
   "source": [
    "## Funções Gerais\n",
    "\n",
    "| Função | Descrição |\n",
    "| --- | --- |\n",
    "| `abs(x)` | Valor absoluto de x.\n",
    "| `pow(x, y)` | x^y.\n",
    "\n",
    "&nbsp;"
   ]
  },
  {
   "cell_type": "code",
   "execution_count": 2,
   "metadata": {},
   "outputs": [
    {
     "name": "stdout",
     "output_type": "stream",
     "text": [
      "IMC = 22.985397512168742\n",
      "IMC = 23.0\n"
     ]
    }
   ],
   "source": [
    "import math\n",
    "\n",
    "peso = 68\n",
    "altura = 1.72\n",
    "imc = peso / altura ** 2\n",
    "print('IMC =', imc)\n",
    "imc = peso / math.pow(altura, 2)\n",
    "print(f'IMC = {imc:.1f}')"
   ]
  },
  {
   "cell_type": "markdown",
   "metadata": {},
   "source": [
    "## Funções Trigonométricas\n",
    "\n",
    "| Função | Descrição |\n",
    "| --- | --- |\n",
    "| `sin(x)` | x em radianos.\n",
    "| `cos(x)` | x em radianos.\n",
    "| `tan(x)` | x em radianos."
   ]
  },
  {
   "cell_type": "markdown",
   "metadata": {},
   "source": [
    "### Exemplos"
   ]
  },
  {
   "cell_type": "code",
   "execution_count": 13,
   "metadata": {},
   "outputs": [
    {
     "name": "stdout",
     "output_type": "stream",
     "text": [
      "-0.9880316240928618\n",
      "0.49999999999999994\n"
     ]
    }
   ],
   "source": [
    "import math\n",
    "\n",
    "x = 30\n",
    "y = math.sin(x)\n",
    "print(y)\n",
    "\n",
    "x_rad = math.pi * x / 180\n",
    "y = math.sin(x_rad)\n",
    "print(y)"
   ]
  }
 ],
 "metadata": {
  "kernelspec": {
   "display_name": "Python 3.9.13 ('grafos')",
   "language": "python",
   "name": "python3"
  },
  "language_info": {
   "codemirror_mode": {
    "name": "ipython",
    "version": 3
   },
   "file_extension": ".py",
   "mimetype": "text/x-python",
   "name": "python",
   "nbconvert_exporter": "python",
   "pygments_lexer": "ipython3",
   "version": "3.9.13"
  },
  "orig_nbformat": 4,
  "vscode": {
   "interpreter": {
    "hash": "1c7fb69ec0120a7bfae17680f5348dc79368d3eaaea67ee440f5569267ea8c67"
   }
  }
 },
 "nbformat": 4,
 "nbformat_minor": 2
}
