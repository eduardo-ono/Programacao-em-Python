{
 "cells": [
  {
   "cell_type": "code",
   "execution_count": null,
   "metadata": {},
   "outputs": [],
   "source": []
  },
  {
   "cell_type": "markdown",
   "metadata": {},
   "source": [
    "## Operadores Aritméticos\n",
    "\n",
    "| Operação | Operador | Exemplo | Saída |\n",
    "| --- | :-: | :-: | :-: |\n",
    "| Soma | + | 9 + 2 | 11\n",
    "| Subtração | - | 9 - 2 | 7\n",
    "| Multiplicação | * | 9 * 2 | 18\n",
    "| Divisão | / | 9 / 2 | 4.5\n",
    "| Divisão Inteira | // | 9 // 2 | 4\n",
    "| Módulo<br>(resto da divisão inteira) | % | 9 % 2 | 1\n",
    "| Exponenciação | ** | 9 ** 2 | 81\n",
    "\n",
    "OBS.: Em outras linguagens de programação, geralmente baseadas na linguagem C, a divisão 9 / 2 produz como resultado 4, ou seja, o quociente de uma divisão inteira. Nessas linguagens, a divisão 9.0 / 2 produz 4.5, como resultado de uma divisão de números reais.."
   ]
  },
  {
   "cell_type": "markdown",
   "metadata": {},
   "source": [
    "<br>\n",
    "\n",
    "## Operadores de Atribuição\n",
    "\n",
    "| Operação | Operador | Exemplo |\n",
    "| --- | :-: | :-: |\n",
    "| Atribuição | = | a = 10\n",
    "| Incremento | += | a += 1\n",
    "| Decremento | -= | a -= 2"
   ]
  },
  {
   "cell_type": "markdown",
   "metadata": {},
   "source": [
    "<br>\n",
    "\n",
    "## Operadores Relacionais\n",
    "\n",
    "| Operação | Operador | Exemplo | Saída |\n",
    "| --- | :-: | :-: | --- |\n",
    "| Maior que | > | 9 > 2 | True\n",
    "| Maior ou igual | >= | 9 >= 2 | True\n",
    "| Menor que | < | 9 < 2 | False\n",
    "| Menor ou igual | <= | 9 <= 2 | False\n",
    "| Igual | == | 9 == 2 | False\n",
    "| Diferente | != | 9 != 2 | True"
   ]
  },
  {
   "cell_type": "markdown",
   "metadata": {},
   "source": [
    "<br>\n",
    "\n",
    "## Operadores Lógicos\n",
    "\n",
    "| Operação | Operador | Exemplo | Saída |\n",
    "| --- | :-: | :-: | :-: |\n",
    "| E lógico | and | True and False | False\n",
    "| OU lógico | or | True ou False | True\n",
    "| NÃO lógico | not | not True | False "
   ]
  }
 ],
 "metadata": {
  "kernelspec": {
   "display_name": "python3-datascience",
   "language": "python",
   "name": "python3-datascience"
  },
  "language_info": {
   "name": "python",
   "version": "3.9.13"
  },
  "orig_nbformat": 4
 },
 "nbformat": 4,
 "nbformat_minor": 2
}
