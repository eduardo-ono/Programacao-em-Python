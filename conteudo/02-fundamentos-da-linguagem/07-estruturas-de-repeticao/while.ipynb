{
 "cells": [
  {
   "cell_type": "markdown",
   "metadata": {},
   "source": [
    "# Estrutura de Repetição `while`\n",
    "\n",
    "---\n",
    "#### Prof. Eduardo Ono\n",
    "\n",
    "&nbsp;"
   ]
  },
  {
   "cell_type": "markdown",
   "metadata": {},
   "source": [
    "## Características\n",
    "\n",
    "* Não existe o operador de incremento `++`, como em `i++`."
   ]
  },
  {
   "cell_type": "markdown",
   "metadata": {},
   "source": [
    "## Exemplos"
   ]
  },
  {
   "cell_type": "markdown",
   "metadata": {},
   "source": [
    "* Imprime \"Olá mundo!\" cinco vezes"
   ]
  },
  {
   "cell_type": "code",
   "execution_count": 2,
   "id": "3f206d51-6daf-4a46-9392-c56a99e512bb",
   "metadata": {},
   "outputs": [
    {
     "name": "stdout",
     "output_type": "stream",
     "text": [
      "Olá mundo!\n",
      "Olá mundo!\n",
      "Olá mundo!\n",
      "Olá mundo!\n",
      "Olá mundo!\n"
     ]
    }
   ],
   "source": [
    "i = 0\n",
    "while i < 5:\n",
    "    print('Olá mundo!')\n",
    "    i += 1"
   ]
  },
  {
   "cell_type": "markdown",
   "metadata": {},
   "source": [
    "* Imprime os inteiros de 0 a 9 (inclusive)"
   ]
  },
  {
   "cell_type": "code",
   "execution_count": 1,
   "metadata": {},
   "outputs": [
    {
     "name": "stdout",
     "output_type": "stream",
     "text": [
      "0 1 2 3 4 5 6 7 8 9 \n"
     ]
    }
   ],
   "source": [
    "i = 0\n",
    "while i < 10:\n",
    "    print(i, end=' ')\n",
    "    i += 1\n",
    "print()"
   ]
  },
  {
   "cell_type": "markdown",
   "metadata": {},
   "source": [
    "### Vídeos de Apoio\n",
    "\n",
    "| Thumb | Descrição |\n",
    "| :-: | --- |\n",
    "| [![img](https://img.youtube.com/vi/XinLASYOJE4/default.jpg)](https://www.youtube.com/watch?v=XinLASYOJE4) | <sup>[Walisson Silva]</sup><br>[__#04 - FOR e WHILE: Estruturas de Repetição \\| Curso de Python para Pesquisadores__](https://www.youtube.com/watch?v=XinLASYOJE4)<br><sub>(11:53, YouTube, Jun/2019)</sub>\n"
   ]
  }
 ],
 "metadata": {
  "kernelspec": {
   "display_name": "Python 3.9.13 ('grafos')",
   "language": "python",
   "name": "python3"
  },
  "language_info": {
   "codemirror_mode": {
    "name": "ipython",
    "version": 3
   },
   "file_extension": ".py",
   "mimetype": "text/x-python",
   "name": "python",
   "nbconvert_exporter": "python",
   "pygments_lexer": "ipython3",
   "version": "3.9.13"
  },
  "orig_nbformat": 4,
  "vscode": {
   "interpreter": {
    "hash": "1c7fb69ec0120a7bfae17680f5348dc79368d3eaaea67ee440f5569267ea8c67"
   }
  }
 },
 "nbformat": 4,
 "nbformat_minor": 2
}
