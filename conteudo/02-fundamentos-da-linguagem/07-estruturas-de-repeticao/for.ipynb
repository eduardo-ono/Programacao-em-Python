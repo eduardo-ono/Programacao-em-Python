{
 "cells": [
  {
   "cell_type": "markdown",
   "metadata": {},
   "source": [
    "# Estrutura de Repetição `for`\n",
    "\n",
    "---\n",
    "#### Prof. Eduardo Ono\n",
    "\n",
    "&nbsp;"
   ]
  },
  {
   "cell_type": "markdown",
   "metadata": {},
   "source": [
    "* Imprime os inteiros de 0 a 9"
   ]
  },
  {
   "cell_type": "code",
   "execution_count": 2,
   "metadata": {},
   "outputs": [
    {
     "name": "stdout",
     "output_type": "stream",
     "text": [
      "0 1 2 3 4 5 6 7 8 9 \n",
      "0 1 2 3 4 5 6 7 8 9 \n"
     ]
    }
   ],
   "source": [
    "for i in range(10):\n",
    "    print(i, end=' ')\n",
    "print()\n",
    "\n",
    "for i in range(0, 10):\n",
    "    print(i, end=' ')\n",
    "print()"
   ]
  },
  {
   "cell_type": "markdown",
   "metadata": {},
   "source": [
    "* Imprime os inteiros de 5 a 9"
   ]
  },
  {
   "cell_type": "code",
   "execution_count": 3,
   "metadata": {},
   "outputs": [
    {
     "name": "stdout",
     "output_type": "stream",
     "text": [
      "5 6 7 8 9 \n"
     ]
    }
   ],
   "source": [
    "for i in range(5, 10):\n",
    "    print(i, end=' ')\n",
    "print()"
   ]
  },
  {
   "cell_type": "code",
   "execution_count": 4,
   "metadata": {},
   "outputs": [
    {
     "name": "stdout",
     "output_type": "stream",
     "text": [
      "0, 1, 2, 3, 4, 5, 6, 7, 8, 9, "
     ]
    }
   ],
   "source": [
    "# Separados por vírgula\n",
    "for i in range(10):\n",
    "    print(i, end=', ')"
   ]
  },
  {
   "cell_type": "code",
   "execution_count": 3,
   "metadata": {},
   "outputs": [
    {
     "name": "stdout",
     "output_type": "stream",
     "text": [
      "0, 1, 2, 3, 4, 5, 6, 7, 8, 9\n"
     ]
    }
   ],
   "source": [
    "for i in range(10):\n",
    "    print(i, end=(', ' if i < 9 else '\\n'))"
   ]
  },
  {
   "cell_type": "markdown",
   "metadata": {},
   "source": [
    "* Imprime os pares entre 0 e 20 (inclusive)"
   ]
  },
  {
   "cell_type": "code",
   "execution_count": 6,
   "metadata": {},
   "outputs": [
    {
     "name": "stdout",
     "output_type": "stream",
     "text": [
      "0 2 4 6 8 10 12 14 16 18 20 \n",
      "0 2 4 6 8 10 12 14 16 18 20 \n"
     ]
    }
   ],
   "source": [
    "for i in range(0, 21, 2):\n",
    "    print(i, end=' ')\n",
    "print()\n",
    "\n",
    "for i in range(21):\n",
    "    if i % 2 == 0:\n",
    "        print(i, end=' ')\n",
    "print()"
   ]
  },
  {
   "cell_type": "markdown",
   "metadata": {},
   "source": [
    "* Imprime os ímpares entre 0 e 20"
   ]
  },
  {
   "cell_type": "code",
   "execution_count": 7,
   "metadata": {},
   "outputs": [
    {
     "name": "stdout",
     "output_type": "stream",
     "text": [
      "1 3 5 7 9 11 13 15 17 19 \n",
      "1 3 5 7 9 11 13 15 17 19 \n"
     ]
    }
   ],
   "source": [
    "for i in range(1, 20, 2):\n",
    "    print(i, end=' ')\n",
    "print()\n",
    "\n",
    "for i in range(21):\n",
    "    if i % 2 != 0:\n",
    "        print(i, end=' ')\n",
    "print()"
   ]
  },
  {
   "cell_type": "markdown",
   "metadata": {},
   "source": [
    "### Vídeos de Apoio\n",
    "\n",
    "| Thumb | Descrição |\n",
    "| :-: | --- |\n",
    "| [![img](https://img.youtube.com/vi/XinLASYOJE4/default.jpg)](https://www.youtube.com/watch?v=XinLASYOJE4) | <sup>[Walisson Silva]</sup><br>[__#04 - FOR e WHILE: Estruturas de Repetição \\| Curso de Python para Pesquisadores__](https://www.youtube.com/watch?v=XinLASYOJE4)<br><sub>(11:53, YouTube, Jun/2019)</sub>\n"
   ]
  }
 ],
 "metadata": {
  "kernelspec": {
   "display_name": "Python 3.9.13 ('grafos')",
   "language": "python",
   "name": "python3"
  },
  "language_info": {
   "codemirror_mode": {
    "name": "ipython",
    "version": 3
   },
   "file_extension": ".py",
   "mimetype": "text/x-python",
   "name": "python",
   "nbconvert_exporter": "python",
   "pygments_lexer": "ipython3",
   "version": "3.9.13"
  },
  "orig_nbformat": 4,
  "vscode": {
   "interpreter": {
    "hash": "1c7fb69ec0120a7bfae17680f5348dc79368d3eaaea67ee440f5569267ea8c67"
   }
  }
 },
 "nbformat": 4,
 "nbformat_minor": 2
}
